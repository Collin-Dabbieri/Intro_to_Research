{
 "cells": [
  {
   "cell_type": "markdown",
   "metadata": {},
   "source": [
    "# \"Hello World!\" Exercise\n",
    "\n",
    "**This activity will provide an introduction to some basics of Python programming.**\n"
   ]
  },
  {
   "cell_type": "markdown",
   "metadata": {},
   "source": [
    "# Intro to Python programming\n",
    "\n",
    "As some sort of rule, the first thing you ever do when learning a programming language is to print a message saying 'Hello!'...  So let's do that."
   ]
  },
  {
   "cell_type": "code",
   "execution_count": 1,
   "metadata": {},
   "outputs": [
    {
     "name": "stdout",
     "output_type": "stream",
     "text": [
      "Hello World!\n",
      "Clearly, text enclosed in parentheses and double-quotes gets printed.\n"
     ]
    }
   ],
   "source": [
    "print (\"Hello World!\")\n",
    "\n",
    "print (\"Clearly, text enclosed in parentheses and double-quotes gets printed.\")"
   ]
  },
  {
   "cell_type": "markdown",
   "metadata": {},
   "source": [
    "It is a good idea to become used to commenting your code.  You can comment in a markdown box, or:"
   ]
  },
  {
   "cell_type": "code",
   "execution_count": 2,
   "metadata": {},
   "outputs": [],
   "source": [
    "# you can comment in a code box, since anything written after a '#' sign is ignored when you run the code\n",
    "# this is a good way to leave notes about what you're doing as you code"
   ]
  },
  {
   "cell_type": "markdown",
   "metadata": {},
   "source": [
    "What happens if you use single quotes rather than double quotes?"
   ]
  },
  {
   "cell_type": "code",
   "execution_count": 3,
   "metadata": {},
   "outputs": [
    {
     "name": "stdout",
     "output_type": "stream",
     "text": [
      "Does it work the same way?\n",
      "Doesn't it work the same way?\n"
     ]
    }
   ],
   "source": [
    "print ('Does it work the same way?')\n",
    "\n",
    "# or\n",
    "\n",
    "print (\"Doesn\\'t it work the same way?\")\n"
   ]
  },
  {
   "cell_type": "markdown",
   "metadata": {},
   "source": [
    "The advantage of computation with computers is that you can defined variables and do computations with them again and again (versus, say, a calculator).  Let's define a variable and give it the value \"chocolate\"\n"
   ]
  },
  {
   "cell_type": "code",
   "execution_count": 4,
   "metadata": {},
   "outputs": [
    {
     "name": "stdout",
     "output_type": "stream",
     "text": [
      "chocolate\n"
     ]
    }
   ],
   "source": [
    "flavor = 'chocolate'\n",
    "\n",
    "# if you want to print out the value of this variable, don't use quotes.  \n",
    "#Only strings go in quotes and variables doen't need them.\n",
    "\n",
    "print (flavor)\n"
   ]
  },
  {
   "cell_type": "markdown",
   "metadata": {},
   "source": [
    "What happens if you use quotes to enclose the variable in the print statement above?\n"
   ]
  },
  {
   "cell_type": "code",
   "execution_count": 5,
   "metadata": {},
   "outputs": [
    {
     "name": "stdout",
     "output_type": "stream",
     "text": [
      "flavor\n"
     ]
    }
   ],
   "source": [
    "print ('flavor')\n"
   ]
  },
  {
   "cell_type": "markdown",
   "metadata": {},
   "source": [
    "#### You can print statements that include both normal text and variables as follows:\n",
    "\n",
    "This example also demonstrates the concept of a \"method\".  \n",
    "\n",
    "Google:  A method is a function that “belongs to” an object. In Python, the term method is not unique to class instances: other object types can have methods as well. For example, list objects have methods called append, insert, remove, sort, and so on.\n",
    "\n",
    "In this case, a string has a method called format.\n"
   ]
  },
  {
   "cell_type": "code",
   "execution_count": 6,
   "metadata": {},
   "outputs": [
    {
     "name": "stdout",
     "output_type": "stream",
     "text": [
      "I would like to have some chocolate ice cream.\n"
     ]
    }
   ],
   "source": [
    "print('I would like to have some {:s} ice cream.'.format(flavor)) \n",
    "\n",
    "# {:s} is a placeholder for a string (i.e. text) value"
   ]
  },
  {
   "cell_type": "code",
   "execution_count": 7,
   "metadata": {},
   "outputs": [
    {
     "name": "stdout",
     "output_type": "stream",
     "text": [
      "I would like 2 scoops of ice cream.\n",
      "I would like 2.00000000000000000000000000000000000000000000000000 scoops of ice cream.\n"
     ]
    }
   ],
   "source": [
    "scoops = 2\n",
    "\n",
    "print('I would like {:.0f} scoops of ice cream.'.format(scoops))\n",
    "# {:f} expects a floating-point (i.e., decimal, non-integer) value\n",
    "# Python 3 removed support for the integer format type, but you can print integers with {:.0f}\n",
    "\n",
    "print('I would like {:.50f} scoops of ice cream.'.format(scoops))\n",
    "\n"
   ]
  },
  {
   "cell_type": "markdown",
   "metadata": {},
   "source": [
    "## Lists\n",
    "\n",
    "You can create a list of values of any type as follows\n",
    "\n",
    "A note on variable names. Many types of variables won't allow spaces.  So it is better to either use an underscore (old way) or mix cases.  That is:\n",
    "\n",
    " - Not 'rocky road'\n",
    " - Use 'rocky_road'\n",
    " - or 'RockyRoad'"
   ]
  },
  {
   "cell_type": "code",
   "execution_count": 8,
   "metadata": {},
   "outputs": [
    {
     "name": "stdout",
     "output_type": "stream",
     "text": [
      "We have the following flavors in-stock:  ['chocolate', 'vanilla', 'bubblegum', 'rocky_road']\n",
      "\n",
      "The total number of flavors is:  4\n"
     ]
    }
   ],
   "source": [
    "flavors_instock = ['chocolate', 'vanilla', 'bubblegum', 'rocky_road'] \n",
    "\n",
    "# Note on \"rocky_road\":  your life will be easier in python if you use underscores instead of spaces\n",
    "# BUT you don't have to do that...  'rocky road' will be accepted as a string, too.\n",
    "\n",
    "print (\"We have the following flavors in-stock: \", flavors_instock)\n",
    "print () # this prints a blank line\n",
    "print (\"The total number of flavors is: \", len(flavors_instock)) # len() returns the length of an array"
   ]
  },
  {
   "cell_type": "markdown",
   "metadata": {},
   "source": [
    "#### You can then verify whether or not certain things are in your list:\n"
   ]
  },
  {
   "cell_type": "code",
   "execution_count": 9,
   "metadata": {},
   "outputs": [
    {
     "name": "stdout",
     "output_type": "stream",
     "text": [
      "Is vanilla in stock?\n"
     ]
    },
    {
     "data": {
      "text/plain": [
       "True"
      ]
     },
     "execution_count": 9,
     "metadata": {},
     "output_type": "execute_result"
    }
   ],
   "source": [
    "flavor_iwant = 'vanilla'\n",
    "\n",
    "# this statement will check all of the flavors in stock to see if the one you want is listed\n",
    "print('Is {:s} in stock?'.format(flavor_iwant))\n",
    "flavor_iwant in flavors_instock"
   ]
  },
  {
   "cell_type": "code",
   "execution_count": 10,
   "metadata": {},
   "outputs": [
    {
     "name": "stdout",
     "output_type": "stream",
     "text": [
      "Is blue_moon in stock?\n"
     ]
    },
    {
     "data": {
      "text/plain": [
       "False"
      ]
     },
     "execution_count": 10,
     "metadata": {},
     "output_type": "execute_result"
    }
   ],
   "source": [
    "flavor_ireallywant = 'blue_moon'\n",
    "print('Is {:s} in stock?'.format(flavor_ireallywant))\n",
    "flavor_ireallywant in flavors_instock"
   ]
  },
  {
   "cell_type": "code",
   "execution_count": 11,
   "metadata": {},
   "outputs": [
    {
     "data": {
      "text/plain": [
       "True"
      ]
     },
     "execution_count": 11,
     "metadata": {},
     "output_type": "execute_result"
    }
   ],
   "source": [
    "flavor_iwant in flavors_instock or flavor_ireallywant in flavors_instock"
   ]
  },
  {
   "cell_type": "markdown",
   "metadata": {},
   "source": [
    "#### Using \"IF\" statements for decision making:\n",
    "\n",
    "Let's say you want to check if the ice cream you really want is in stock before ordering.  You can use the following logic:\n"
   ]
  },
  {
   "cell_type": "code",
   "execution_count": 13,
   "metadata": {},
   "outputs": [
    {
     "name": "stdout",
     "output_type": "stream",
     "text": [
      "I guess I will have vanilla.\n"
     ]
    }
   ],
   "source": [
    "\"\"\"\n",
    "Note: You can use triple quotes like '#' signs, to leave comments!\n",
    "\n",
    "Here is the structure of an IF loop:\n",
    "\n",
    "if <condition>:\n",
    "    <execute this code>\n",
    "\n",
    "\"\"\"\n",
    "if flavor_ireallywant in flavors_instock:    \n",
    "    # indentation (one hit of the tab key) indicates everything contained in a loop\n",
    "    print(\"I would like to order {:s}.\".format(flavor_ireallywant))\n",
    "    \n",
    "else:   \n",
    "    \n",
    "    # if the IF statement doesn't hold, then the following loop will run\n",
    "    print(\"I guess I will have {:s}.\".format(flavor_iwant))\n",
    "    "
   ]
  },
  {
   "cell_type": "markdown",
   "metadata": {},
   "source": [
    "#### You might find it useful to use a \"FOR\" loop to run the same command on every item in a list\n"
   ]
  },
  {
   "cell_type": "code",
   "execution_count": 14,
   "metadata": {},
   "outputs": [
    {
     "name": "stdout",
     "output_type": "stream",
     "text": [
      "Let's see what they have...\n",
      "\n",
      "\n",
      "chocolate\n",
      "\n",
      "vanilla\n",
      "OK - well, at least they have my back-up choice.\n",
      "\n",
      "bubblegum\n",
      "\n",
      "rocky_road\n"
     ]
    }
   ],
   "source": [
    "# let's scroll through the whole list and see if one matches up with our preferred choice...\n",
    "\n",
    "print (\"Let's see what they have...\\n\")\n",
    "\n",
    "gotit = 0                                   # let's keep a placeholder so we can remember \n",
    "                                            # if they have what we're looking for\n",
    "        \n",
    "for flavor in flavors_instock:              # this will run through every item in the list, one by one\n",
    "    print ()                                # put a blank space between each flavor\n",
    "    print (flavor)\n",
    "    \n",
    "    if flavor == flavor_ireallywant:\n",
    "        print (\"YAY - they have my absolute favorite flavor!\")\n",
    "        gotit==1                            # update the placeholder\n",
    "        \n",
    "    elif flavor == flavor_iwant:            # \"elif\" means \"otherwise, if...\"\n",
    "        print (\"OK - well, at least they have my back-up choice.\")    "
   ]
  },
  {
   "cell_type": "markdown",
   "metadata": {},
   "source": [
    "#### Here is an example of an \"If-Elif-Else\" loop:\n"
   ]
  },
  {
   "cell_type": "code",
   "execution_count": 15,
   "metadata": {},
   "outputs": [
    {
     "name": "stdout",
     "output_type": "stream",
     "text": [
      "Holy mackerel, we might as well start a dog hostel!\n"
     ]
    }
   ],
   "source": [
    "dogs = ['willie', 'hootz', 'peso', 'monty', 'juno', 'turkey']\n",
    "\n",
    "if len(dogs) >= 5:\n",
    "    print(\"Holy mackerel, we might as well start a dog hostel!\")\n",
    "elif len(dogs) >= 3:\n",
    "    print(\"Wow, we have a lot of dogs here!\")\n",
    "else:\n",
    "    print(\"Okay, this is a reasonable number of dogs.\")"
   ]
  },
  {
   "cell_type": "markdown",
   "metadata": {},
   "source": [
    "#### One way to keep track of what item you're on, as you move through a list is to add a counter:"
   ]
  },
  {
   "cell_type": "code",
   "execution_count": 16,
   "metadata": {},
   "outputs": [
    {
     "name": "stdout",
     "output_type": "stream",
     "text": [
      "0 willie willie\n",
      "1 hootz hootz\n",
      "2 peso peso\n",
      "3 monty monty\n",
      "4 juno juno\n",
      "5 turkey turkey\n",
      "Hootz is dog number  2\n"
     ]
    }
   ],
   "source": [
    "counter = -1 # python's counting method start with 0, not 1... so it helps to start thinking of \"-1\" as \"0\"\n",
    "\n",
    "for dog in dogs:\n",
    "    counter+=1  # adds one to the variable 'counter'\n",
    "    print (counter, dog, dogs[counter])  # see what I did there at the end?\n",
    "    if dog == \"hootz\":\n",
    "        hootznum=counter+1\n",
    "print (\"Hootz is dog number \", hootznum)"
   ]
  },
  {
   "cell_type": "markdown",
   "metadata": {},
   "source": [
    "#### Counters can be useful if you want to keep track of parallel lists of the same length that contain related information. For instance, say you wanted to keep track of other information about the ice cream stock -- like what fraction of each container is remaining:"
   ]
  },
  {
   "cell_type": "code",
   "execution_count": 17,
   "metadata": {},
   "outputs": [
    {
     "name": "stdout",
     "output_type": "stream",
     "text": [
      "Let's see which flavors need to be ordered...\n",
      "\n",
      "Number, Flavor, Level\n",
      " -----------------------------\n",
      "0 chocolate 1.0\n",
      "1 vanilla 0.5\n",
      "2 bubblegum 0.8\n",
      "3 rocky_road 0.1\n",
      "\n",
      "\n",
      "Number, Flavor, Level\n",
      " -----------------------------\n",
      "0 chocolate    1.0\n",
      "1 vanilla      0.5\n",
      "2 bubblegum    0.8\n",
      "3 rocky_road   0.1\n"
     ]
    }
   ],
   "source": [
    "flavors_instock = ['chocolate', 'vanilla', 'bubblegum', 'rocky_road'] \n",
    "flavors_level = [1.0, 0.5, 0.8, 0.1]  # this says only the chocolate is 100% full\n",
    "\n",
    "print (\"Let's see which flavors need to be ordered...\")\n",
    "print (\"\")\n",
    "print (\"Number, Flavor, Level\")\n",
    "print (\" -----------------------------\")\n",
    "\n",
    "counter = -1\n",
    "for flavor in flavors_instock:\n",
    "    counter+=1\n",
    "    print (counter, flavors_instock[counter], flavors_level[counter])\n",
    "    \n",
    "print (\"\")\n",
    "# Or if you want the printing to look a bit nicer...\n",
    "print (\"\")\n",
    "print (\"Number, Flavor, Level\")\n",
    "print (\" -----------------------------\")\n",
    "counter = -1\n",
    "for flavor in flavors_instock:\n",
    "    counter+=1\n",
    "    # you can force the spacing and decimal precision of each printed value\n",
    "    print(\"{0:.0f} {1:12s} {2:3.1f}\".format(counter,flavors_instock[counter],flavors_level[counter]))"
   ]
  },
  {
   "cell_type": "markdown",
   "metadata": {},
   "source": [
    "### The previous exercise has probably led you to discover that you can use Python as a calculator!"
   ]
  },
  {
   "cell_type": "code",
   "execution_count": 18,
   "metadata": {},
   "outputs": [
    {
     "name": "stdout",
     "output_type": "stream",
     "text": [
      "Let's try some math...\n",
      "\n",
      "3 4 7\n",
      "7\n",
      "\n",
      "Here's our calculation:\n",
      "3 + 4 = 7\n"
     ]
    }
   ],
   "source": [
    "print (\"Let's try some math...\\n\") # the \\n at the end creates a line break\n",
    "a = 3\n",
    "b = 4\n",
    "c = a+b\n",
    "\n",
    "print (a,b,c)\n",
    "print (c)\n",
    "\n",
    "print (\"\")  # this prints a blank line\n",
    "\n",
    "# these numbers are integers, so we can simply format the print statement placeholder variables as \"{.0f}\"\n",
    "print (\"Here's our calculation:\")\n",
    "print ('{0:.0f} + {1:.0f} = {2:.0f}'.format(a,b,c))"
   ]
  },
  {
   "cell_type": "markdown",
   "metadata": {},
   "source": [
    "#### Try calculating and printing some decimal ('floating point') numbers.\n"
   ]
  },
  {
   "cell_type": "code",
   "execution_count": 19,
   "metadata": {},
   "outputs": [
    {
     "name": "stdout",
     "output_type": "stream",
     "text": [
      "1.4142136\n"
     ]
    }
   ],
   "source": [
    "print('{:.7f}'.format(1.41421356237))"
   ]
  },
  {
   "cell_type": "markdown",
   "metadata": {},
   "source": [
    "#### Most mathematical operations don't come automatically loaded into Python.  If you need special operations (e.g., log10, pi, square root), you'll need to import them from python's math library."
   ]
  },
  {
   "cell_type": "code",
   "execution_count": 20,
   "metadata": {},
   "outputs": [
    {
     "name": "stdout",
     "output_type": "stream",
     "text": [
      "If this line prints, there were no errors, and pi was successfully imported!\n",
      "3.141592653589793\n"
     ]
    }
   ],
   "source": [
    "# import pi from the python math library\n",
    "from math import pi\n",
    "\n",
    "print (\"If this line prints, there were no errors, and pi was successfully imported!\")\n",
    "print (pi)"
   ]
  },
  {
   "cell_type": "code",
   "execution_count": 21,
   "metadata": {},
   "outputs": [
    {
     "name": "stdout",
     "output_type": "stream",
     "text": [
      "Let's print out pi to only 5 decimal places...\n",
      "3.14159\n"
     ]
    }
   ],
   "source": [
    "print (\"Let's print out pi to only 5 decimal places...\")\n",
    "\n",
    "# format the print statement to truncate pi at 5 decimal places in floating point \"%f\" format\n",
    "print (\"{:.5f}\".format(pi))"
   ]
  },
  {
   "cell_type": "code",
   "execution_count": 22,
   "metadata": {},
   "outputs": [
    {
     "name": "stdout",
     "output_type": "stream",
     "text": [
      "10\n",
      "3.1622776601683795\n"
     ]
    }
   ],
   "source": [
    "print (abs(-10))\n",
    "\n",
    "from math import sqrt\n",
    "print (sqrt(10))"
   ]
  },
  {
   "cell_type": "markdown",
   "metadata": {},
   "source": [
    "## Numpy\n",
    "There are a lot of advantages to using numpy and similar useful features in python.   A principle one is that you can operate on vector variables.  For example, say you have two vectors (a,b) that you want to add together or multiply together.  Numpy allows you to do that directly: a+b, or axb, rather than having to deal with each elements.  "
   ]
  },
  {
   "cell_type": "code",
   "execution_count": 23,
   "metadata": {},
   "outputs": [
    {
     "name": "stdout",
     "output_type": "stream",
     "text": [
      "empty =  []\n",
      "x =  [0 1 2 3 4]\n",
      "zeros =  [0. 0. 0. 0. 0.]\n",
      "noise =  [-1.72 -0.94 -0.81 -0.94  2.2 ]\n"
     ]
    }
   ],
   "source": [
    "# import the numpy module, and give it a nickname \"np\"\n",
    "import numpy as np\n",
    "\n",
    "# The basic structure of the Numpy module is the Numpy Array.\n",
    "# Numpy arrays were invented to mimic the functionality of\n",
    "# MATLAB arrays, and also IDL arrays.\n",
    "\n",
    "empty = np.array([]) # Empty numpy array\n",
    "x = np.arange(5) # Creates an array of 5 intergers, beginning at 0\n",
    "zeros = np.zeros(5) # Array of five zeros \n",
    "noise = np.random.randn(5) # Array of five Gaussian random numbers\n",
    "\n",
    "print ('empty = ', empty)\n",
    "print ('x = ', x)\n",
    "print ('zeros = ', zeros)\n",
    "print ('noise = ', np.round(noise,2))\n"
   ]
  },
  {
   "cell_type": "code",
   "execution_count": 24,
   "metadata": {},
   "outputs": [
    {
     "name": "stdout",
     "output_type": "stream",
     "text": [
      "x + x = [0 2 4 6 8]\n",
      "x + noise = [-1.72  0.06  1.19  2.06  6.2 ]\n"
     ]
    }
   ],
   "source": [
    "# By default, arrays add element-by-element, and they have\n",
    "# powerful indexing and masking functionality\n",
    "print ('x + x =', x + x)\n",
    "print ('x + noise =', np.round(x + noise, 2))"
   ]
  },
  {
   "cell_type": "code",
   "execution_count": 25,
   "metadata": {},
   "outputs": [
    {
     "name": "stdout",
     "output_type": "stream",
     "text": [
      "w =  [False False False False  True]\n",
      "x =  [ 0  1  2  3 24]\n",
      "x[w] =  [24]\n"
     ]
    }
   ],
   "source": [
    "# One of the most common tasks is selecting data based\n",
    "# on boolean conditions\n",
    "w = x > 3        \n",
    "x[w] = x[w] + 20 # (Add 20 to all values greater than 3)\n",
    "print ('w = ', w)\n",
    "print ('x = ', x)\n",
    "print ('x[w] = ', x[w])"
   ]
  },
  {
   "cell_type": "markdown",
   "metadata": {},
   "source": [
    "## Indentation\n",
    "\n",
    "Note that Python does not use brackets, braces, or parentheses, or even \"end\" statements in it control flows.  Everything is controlled using indentation.  You are free to pick your own level of indendation, but always use 4 spaces.\n",
    "\n",
    "For example, suppose we want to iterate through a 2D array and check the value of each element, the code looks like this:\n",
    "\n"
   ]
  },
  {
   "cell_type": "code",
   "execution_count": 26,
   "metadata": {},
   "outputs": [
    {
     "name": "stdout",
     "output_type": "stream",
     "text": [
      "100 100\n",
      "0\n",
      "No detections, need more observing time.\n"
     ]
    }
   ],
   "source": [
    "\n",
    "\n",
    "noise = np.random.randn(100,100) # 2D image of Gaussian noise\n",
    "detections = 0\n",
    "print (noise.shape[0], noise.shape[1])\n",
    "print (np.sum(noise > 4))\n",
    "for i in range(noise.shape[0]):\n",
    "    for j in range(noise.shape[1]):\n",
    "        if noise[i,j] > 4:\n",
    "            detections += 1\n",
    "            print ('4 Sigma Detection! ', noise[i,j])\n",
    "if detections==0:\n",
    "    print ('No detections, need more observing time.')"
   ]
  },
  {
   "cell_type": "code",
   "execution_count": null,
   "metadata": {},
   "outputs": [],
   "source": []
  }
 ],
 "metadata": {
  "kernelspec": {
   "display_name": "Python 3",
   "language": "python",
   "name": "python3"
  },
  "language_info": {
   "codemirror_mode": {
    "name": "ipython",
    "version": 3
   },
   "file_extension": ".py",
   "mimetype": "text/x-python",
   "name": "python",
   "nbconvert_exporter": "python",
   "pygments_lexer": "ipython3",
   "version": "3.7.3"
  }
 },
 "nbformat": 4,
 "nbformat_minor": 2
}
