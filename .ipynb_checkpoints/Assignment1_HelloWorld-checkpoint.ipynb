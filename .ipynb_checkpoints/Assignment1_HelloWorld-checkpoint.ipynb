{
 "cells": [
  {
   "cell_type": "markdown",
   "metadata": {},
   "source": [
    "# Assignment 1\n",
    "\n",
    "**This is the first daily assignment for the class, due before class on Friday Jan 17.** "
   ]
  },
  {
   "cell_type": "markdown",
   "metadata": {},
   "source": [
    "# Problem 1 \n",
    "\n",
    "## a)\n",
    "\n",
    "I have a very long word and I don't want to bother counting its letters. Using the format method, print the phrase \"This word has X letters\" where X is the number of letters (don't count them manually)"
   ]
  },
  {
   "cell_type": "code",
   "execution_count": null,
   "metadata": {},
   "outputs": [],
   "source": [
    "long_word='antidisestablishmentarianism'\n"
   ]
  },
  {
   "cell_type": "markdown",
   "metadata": {},
   "source": [
    "## b)\n",
    "\n",
    "I've given you data with 20 rows and four columns, print the first 4 rows of the 3rd column"
   ]
  },
  {
   "cell_type": "code",
   "execution_count": 105,
   "metadata": {},
   "outputs": [],
   "source": [
    "data=np.random.randn(20,4)\n"
   ]
  },
  {
   "cell_type": "markdown",
   "metadata": {},
   "source": [
    "# Problem 2\n",
    "\n",
    "I'm trying to figure out whether or not I should go to the zoo, I know what animals the zoo has and I know my favorite animals"
   ]
  },
  {
   "cell_type": "code",
   "execution_count": 100,
   "metadata": {},
   "outputs": [],
   "source": [
    "animals_in_zoo=['bear','wolf','eel','llama','gorilla','chimpanzee','snake','elk','lemur','elephant','giraffe',\n",
    "               'moose','deer','shark','polar bear','zebra','penguin','koala','hippo','sloth','lion','panda',\n",
    "               'kangaroo','orangutan','meerkat','camel','crocodile','platypus','emu','tortoise','flamingo']\n",
    "\n",
    "my_favorite_animals=['dog','cat','snake','mouse','polar bear','dolphin','flamingo','elk','lemur']"
   ]
  },
  {
   "cell_type": "markdown",
   "metadata": {},
   "source": [
    "### Using the for, if and in logical commands, figure out how many reasons I have to go to the zoo (how many entries are in both lists)\n",
    "\n",
    "Here's some pseudocode that will help you accomplish this\n",
    "\n",
    "- create a variable called my_reasons and set its value to 0\n",
    "- for each animal in animals_in_zoo, do the following\n",
    "- check if that animal is in the list my_favorite_animals using if and in\n",
    "- if that animal is in the list my_favorite_animals, increase the variable my_reasons by 1 using my_reasons+=1\n",
    "\n"
   ]
  },
  {
   "cell_type": "code",
   "execution_count": null,
   "metadata": {},
   "outputs": [],
   "source": []
  },
  {
   "cell_type": "markdown",
   "metadata": {},
   "source": [
    "### print the statement \"I have X reasons to go to the zoo\" where X is the number of entries in both lists\n",
    "(make sure to use the format method)"
   ]
  },
  {
   "cell_type": "code",
   "execution_count": null,
   "metadata": {},
   "outputs": [],
   "source": []
  },
  {
   "cell_type": "markdown",
   "metadata": {},
   "source": [
    "# Problem 3\n",
    "\n",
    "In bird_data.txt you'll find a made-up collection of beak lengths for two species of bird, the Large Ground Finch and the Green Warbler-Finch. The first column gives the species and the second column gives the beak length, in centimeters. However, the data is ordered randomly (ie it doesn't list all of one species first followed by all of the next species)\n",
    "\n",
    "## The goal is to figure out the average beak length for the Large Ground Finch\n"
   ]
  },
  {
   "cell_type": "code",
   "execution_count": 102,
   "metadata": {},
   "outputs": [
    {
     "name": "stdout",
     "output_type": "stream",
     "text": [
      "[(b'Large Ground Finch', 2.451127388305961), (b'Green Warbler-Finch', 1.6522066209817239), (b'Green Warbler-Finch', 1.8173624943944193), (b'Large Ground Finch', 2.134868955835671)]\n"
     ]
    },
    {
     "name": "stderr",
     "output_type": "stream",
     "text": [
      "/usr/local/lib/python3.7/site-packages/ipykernel_launcher.py:4: VisibleDeprecationWarning: Reading unicode strings without specifying the encoding argument is deprecated. Set the encoding, use None for the system default.\n",
      "  after removing the cwd from sys.path.\n"
     ]
    }
   ],
   "source": [
    "import numpy as np\n",
    "# Load the data, and see what it looks like\n",
    "\n",
    "bird_data=np.genfromtxt(\"bird_data.txt\",dtype=None,delimiter=\",\").tolist()\n",
    "#the argument dtype=None means genfromtxt will attempt to intelligently guess the data type of each column\n",
    "\n",
    "print(bird_data[:4]) #print the first 4 entries of the list"
   ]
  },
  {
   "cell_type": "markdown",
   "metadata": {},
   "source": [
    "### The list we've just loaded in has 200 entries, and each entry has 2 sub-entries, so it looks something like this\n",
    "\n",
    "bird_data=[ [name1,length1], [name2,length2], [name3,length3], ...]\n",
    "\n",
    "If I wanted to access the first name, I would use bird_data[0][0]\n",
    "\n",
    "If I wanted to access the first length, I would use bird_data[0][1]\n",
    "\n",
    "You'll see nested lists like this a lot in python"
   ]
  },
  {
   "cell_type": "markdown",
   "metadata": {},
   "source": [
    "# Our goal is to pick out all entries with the name \"Large Ground Finch\" and calculate the average beak length of this species\n",
    "\n",
    "## Here's more pseudocode that will help\n",
    "\n",
    "- Create an empty list called LGF_lengths\n",
    "- For each entry in bird_data do the following\n",
    "- If the name in that entry is \"Large Ground Finch\", append the length of that entry to our list LGF_lengths\n",
    "- After you've iterated through all of the entries in bird_data, take the mean of the list LGF_lengths"
   ]
  },
  {
   "cell_type": "code",
   "execution_count": null,
   "metadata": {},
   "outputs": [],
   "source": [
    "#fill in the somethings in this cell\n",
    "\n",
    "nameIwant=b\"Large Ground Finch\"\n",
    "#If you're using python2, I think you'll want to use nameIwant=\"Large Ground Finch\"\n",
    "\n",
    "\n",
    "LGF_lengths=[]\n",
    "\n",
    "for something:\n",
    "    #iterating through all 200 entries in bird_data\n",
    "    \n",
    "    if something==nameIwant:# == is used when checking if two values are equal, = is used when assigning a value\n",
    "        #if the name of a given entry is Large Ground Finch, execute the indented code below\n",
    "        \n",
    "        LGF_lengths.append(something)\n",
    "        #append the length of this entry to our list\n",
    "\n",
    "#take the mean of all of the Large Ground Finch lengths\n",
    "print(np.mean(LGF_lengths))"
   ]
  }
 ],
 "metadata": {
  "kernelspec": {
   "display_name": "Python 3",
   "language": "python",
   "name": "python3"
  },
  "language_info": {
   "codemirror_mode": {
    "name": "ipython",
    "version": 3
   },
   "file_extension": ".py",
   "mimetype": "text/x-python",
   "name": "python",
   "nbconvert_exporter": "python",
   "pygments_lexer": "ipython3",
   "version": "3.7.3"
  }
 },
 "nbformat": 4,
 "nbformat_minor": 2
}
