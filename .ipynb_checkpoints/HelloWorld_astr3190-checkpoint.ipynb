{
 "cells": [
  {
   "cell_type": "markdown",
   "metadata": {},
   "source": [
    "# \"Hello World!\" Exercise\n",
    "\n",
    "**This activity will provide an introduction to some basics of Python programming.**\n"
   ]
  },
  {
   "cell_type": "markdown",
   "metadata": {},
   "source": [
    "# Intro to Python programming\n",
    "\n",
    "As some sort of rule, the first thing you ever do when learning a programming language is to print a message saying 'Hello!'...  So let's do that."
   ]
  },
  {
   "cell_type": "code",
   "execution_count": 1,
   "metadata": {},
   "outputs": [
    {
     "name": "stdout",
     "output_type": "stream",
     "text": [
      "Hello World!\n",
      "Clearly, text enclosed in parentheses and double-quotes gets printed.\n"
     ]
    }
   ],
   "source": [
    "print (\"Hello World!\")\n",
    "\n",
    "print (\"Clearly, text enclosed in parentheses and double-quotes gets printed.\")"
   ]
  },
  {
   "cell_type": "markdown",
   "metadata": {},
   "source": [
    "It is a good idea to become used to commenting your code.  You can comment in a markdown box, or:"
   ]
  },
  {
   "cell_type": "code",
   "execution_count": 2,
   "metadata": {},
   "outputs": [],
   "source": [
    "# you can comment in a code box, since anything written after a '#' sign is ignored when you run the code\n",
    "# this is a good way to leave notes about what you're doing as you code"
   ]
  },
  {
   "cell_type": "markdown",
   "metadata": {},
   "source": [
    "What happens if you use single quotes rather than double quotes?"
   ]
  },
  {
   "cell_type": "code",
   "execution_count": 3,
   "metadata": {},
   "outputs": [
    {
     "name": "stdout",
     "output_type": "stream",
     "text": [
      "Does it work the same way?\n",
      "Doesn't it work the same way?\n"
     ]
    }
   ],
   "source": [
    "print ('Does it work the same way?')\n",
    "\n",
    "# or\n",
    "\n",
    "print (\"Doesn\\'t it work the same way?\")\n"
   ]
  },
  {
   "cell_type": "markdown",
   "metadata": {},
   "source": [
    "The advantage of computation with computers is that you can defined variables and do computations with them again and again (versus, say, a calculator).  Let's define a variable and give it the value \"chocolate\"\n"
   ]
  },
  {
   "cell_type": "code",
   "execution_count": 4,
   "metadata": {},
   "outputs": [
    {
     "name": "stdout",
     "output_type": "stream",
     "text": [
      "chocolate\n"
     ]
    }
   ],
   "source": [
    "flavor = 'chocolate'\n",
    "\n",
    "# if you want to print out the value of this variable, don't use quotes.  \n",
    "#Only strings go in quotes and variables doen't need them.\n",
    "\n",
    "print (flavor)\n"
   ]
  },
  {
   "cell_type": "markdown",
   "metadata": {},
   "source": [
    "What happens if you use quotes to enclose the variable in the print statement above?\n"
   ]
  },
  {
   "cell_type": "code",
   "execution_count": 5,
   "metadata": {},
   "outputs": [
    {
     "name": "stdout",
     "output_type": "stream",
     "text": [
      "flavor\n"
     ]
    }
   ],
   "source": [
    "print ('flavor')\n"
   ]
  },
  {
   "cell_type": "markdown",
   "metadata": {},
   "source": [
    "#### You can print statements that include both normal text and variables as follows:\n",
    "\n",
    "This example also demonstrates the concept of a \"method\".  \n",
    "\n",
    "Google:  A method is a function that “belongs to” an object. In Python, the term method is not unique to class instances: other object types can have methods as well. For example, list objects have methods called append, insert, remove, sort, and so on.\n",
    "\n",
    "In this case, a string has a method called format.\n"
   ]
  },
  {
   "cell_type": "code",
   "execution_count": 6,
   "metadata": {},
   "outputs": [
    {
     "name": "stdout",
     "output_type": "stream",
     "text": [
      "I would like to have some chocolate ice cream.\n"
     ]
    }
   ],
   "source": [
    "print('I would like to have some {:s} ice cream.'.format(flavor)) \n",
    "\n",
    "# {:s} is a placeholder for a string (i.e. text) value"
   ]
  },
  {
   "cell_type": "code",
   "execution_count": 7,
   "metadata": {},
   "outputs": [
    {
     "name": "stdout",
     "output_type": "stream",
     "text": [
      "I would like 2 scoops of ice cream.\n",
      "I would like 2.00000000000000000000000000000000000000000000000000 scoops of ice cream.\n"
     ]
    }
   ],
   "source": [
    "scoops = 2\n",
    "\n",
    "print('I would like {:.0f} scoops of ice cream.'.format(scoops))\n",
    "# {:f} expects a floating-point (i.e., decimal, non-integer) value\n",
    "# Python 3 removed support for the integer format type, but you can print integers with {:.0f}\n",
    "\n",
    "print('I would like {:.50f} scoops of ice cream.'.format(scoops))\n",
    "\n"
   ]
  },
  {
   "cell_type": "markdown",
   "metadata": {},
   "source": [
    "## Lists\n",
    "\n",
    "You can create a list of values of any type as follows\n",
    "\n",
    "A note on variable names. Many types of variables won't allow spaces.  So it is better to either use an underscore (old way) or mix cases.  That is:\n",
    "\n",
    " - Not 'rocky road'\n",
    " - Use 'rocky_road'\n",
    " - or 'RockyRoad'"
   ]
  },
  {
   "cell_type": "code",
   "execution_count": 8,
   "metadata": {},
   "outputs": [
    {
     "name": "stdout",
     "output_type": "stream",
     "text": [
      "We have the following flavors in-stock:  ['chocolate', 'vanilla', 'bubblegum', 'rocky_road']\n",
      "\n",
      "The total number of flavors is:  4\n"
     ]
    }
   ],
   "source": [
    "flavors_instock = ['chocolate', 'vanilla', 'bubblegum', 'rocky_road'] \n",
    "\n",
    "# Note on \"rocky_road\":  your life will be easier in python if you use underscores instead of spaces\n",
    "# BUT you don't have to do that...  'rocky road' will be accepted as a string, too.\n",
    "\n",
    "print (\"We have the following flavors in-stock: \", flavors_instock)\n",
    "print () # this prints a blank line\n",
    "print (\"The total number of flavors is: \", len(flavors_instock)) # len() returns the length of an array"
   ]
  },
  {
   "cell_type": "markdown",
   "metadata": {},
   "source": [
    "#### You can then verify whether or not certain things are in your list:\n"
   ]
  },
  {
   "cell_type": "code",
   "execution_count": 9,
   "metadata": {},
   "outputs": [
    {
     "name": "stdout",
     "output_type": "stream",
     "text": [
      "Is vanilla in stock?\n"
     ]
    },
    {
     "data": {
      "text/plain": [
       "True"
      ]
     },
     "execution_count": 9,
     "metadata": {},
     "output_type": "execute_result"
    }
   ],
   "source": [
    "flavor_iwant = 'vanilla'\n",
    "\n",
    "# this statement will check all of the flavors in stock to see if the one you want is listed\n",
    "print('Is {:s} in stock?'.format(flavor_iwant))\n",
    "flavor_iwant in flavors_instock"
   ]
  },
  {
   "cell_type": "code",
   "execution_count": 10,
   "metadata": {},
   "outputs": [
    {
     "name": "stdout",
     "output_type": "stream",
     "text": [
      "Is blue_moon in stock?\n"
     ]
    },
    {
     "data": {
      "text/plain": [
       "False"
      ]
     },
     "execution_count": 10,
     "metadata": {},
     "output_type": "execute_result"
    }
   ],
   "source": [
    "flavor_ireallywant = 'blue_moon'\n",
    "print('Is {:s} in stock?'.format(flavor_ireallywant))\n",
    "flavor_ireallywant in flavors_instock"
   ]
  },
  {
   "cell_type": "markdown",
   "metadata": {},
   "source": [
    "#### Using \"IF\" statements for decision making:\n",
    "\n",
    "Let's say you want to check if the ice cream you really want is in stock before ordering.  You can use the following logic:\n"
   ]
  },
  {
   "cell_type": "code",
   "execution_count": 12,
   "metadata": {},
   "outputs": [
    {
     "name": "stdout",
     "output_type": "stream",
     "text": [
      "I guess I will have vanilla.\n"
     ]
    }
   ],
   "source": [
    "\"\"\"\n",
    "Note on triple quotes - these are useful in code cells to delineate large \n",
    "areas of commented materal, rather than putting a # in front of each line.\n",
    "\n",
    "Here is the structure of an IF loop:\n",
    "\n",
    "if <condition>:\n",
    "    <execute this code>\n",
    "else: \n",
    "    <execute another code>\n",
    "\n",
    "\"\"\"\n",
    "if flavor_ireallywant in flavors_instock:    \n",
    "    print(\"I would like to order {:s}.\".format(flavor_reallywant))\n",
    "    \n",
    "else:   \n",
    "    print(\"I guess I will have {:s}.\".format(flavor_iwant))\n",
    "    "
   ]
  },
  {
   "cell_type": "markdown",
   "metadata": {},
   "source": [
    "#### You might find it useful to use a \"FOR\" loop to run the same command on every item in a list\n"
   ]
  },
  {
   "cell_type": "code",
   "execution_count": 14,
   "metadata": {},
   "outputs": [
    {
     "name": "stdout",
     "output_type": "stream",
     "text": [
      "Let's see what they have...\n",
      "\n",
      "\n",
      "chocolate\n",
      "\n",
      "vanilla\n",
      "OK - well, at least they have my back-up choice.\n",
      "\n",
      "bubblegum\n",
      "\n",
      "rocky_road\n"
     ]
    }
   ],
   "source": [
    "# let's scroll through the whole list and see if one matches up with our preferred choice...\n",
    "\n",
    "print (\"Let's see what they have...\\n\")\n",
    "        \n",
    "for flavor in flavors_instock:              # this will run through every item in the list, one by one\n",
    "    print ()                                # put a blank space between each flavor\n",
    "    print (flavor)\n",
    "    \n",
    "    if flavor == flavor_ireallywant:\n",
    "        print (\"YAY - they have my absolute favorite flavor!\")\n",
    "        \n",
    "    elif flavor == flavor_iwant:            # \"elif\" means \"otherwise, if...\"\n",
    "        print (\"OK - well, at least they have my back-up choice.\")    "
   ]
  },
  {
   "cell_type": "markdown",
   "metadata": {},
   "source": [
    "#### Here is an example of an \"If-Elif-Else\" loop:\n"
   ]
  },
  {
   "cell_type": "code",
   "execution_count": 15,
   "metadata": {},
   "outputs": [
    {
     "name": "stdout",
     "output_type": "stream",
     "text": [
      "Holy mackerel, we might as well start a dog hostel!\n"
     ]
    }
   ],
   "source": [
    "dogs = ['willie', 'hootz', 'peso', 'monty', 'juno', 'turkey']\n",
    "\n",
    "if len(dogs) >= 5:\n",
    "    print(\"Holy mackerel, we might as well start a dog hostel!\")\n",
    "elif len(dogs) >= 3:\n",
    "    print(\"Wow, we have a lot of dogs here!\")\n",
    "else:\n",
    "    print(\"Okay, this is a reasonable number of dogs.\")"
   ]
  },
  {
   "cell_type": "markdown",
   "metadata": {},
   "source": [
    "### Python and numbers:\n",
    "\n",
    "Python can be easily used as a calculator.  +, \\*, -, /, ** stand for addition, multiplication, subtraction, division, and exponentiation, respectively."
   ]
  },
  {
   "cell_type": "code",
   "execution_count": 22,
   "metadata": {},
   "outputs": [
    {
     "data": {
      "text/plain": [
       "8"
      ]
     },
     "execution_count": 22,
     "metadata": {},
     "output_type": "execute_result"
    }
   ],
   "source": [
    "5+3"
   ]
  },
  {
   "cell_type": "code",
   "execution_count": 28,
   "metadata": {},
   "outputs": [
    {
     "data": {
      "text/plain": [
       "2"
      ]
     },
     "execution_count": 28,
     "metadata": {},
     "output_type": "execute_result"
    }
   ],
   "source": [
    "5-3"
   ]
  },
  {
   "cell_type": "code",
   "execution_count": 21,
   "metadata": {},
   "outputs": [
    {
     "data": {
      "text/plain": [
       "15"
      ]
     },
     "execution_count": 21,
     "metadata": {},
     "output_type": "execute_result"
    }
   ],
   "source": [
    "5*3"
   ]
  },
  {
   "cell_type": "code",
   "execution_count": 23,
   "metadata": {},
   "outputs": [
    {
     "data": {
      "text/plain": [
       "1.6666666666666667"
      ]
     },
     "execution_count": 23,
     "metadata": {},
     "output_type": "execute_result"
    }
   ],
   "source": [
    "5/3"
   ]
  },
  {
   "cell_type": "code",
   "execution_count": 24,
   "metadata": {},
   "outputs": [
    {
     "data": {
      "text/plain": [
       "125"
      ]
     },
     "execution_count": 24,
     "metadata": {},
     "output_type": "execute_result"
    }
   ],
   "source": [
    "5**3"
   ]
  },
  {
   "cell_type": "markdown",
   "metadata": {},
   "source": [
    "### Variables and numbers\n",
    "\n",
    "Naturally, you can assign numeric values to variables, and then operate with those variables."
   ]
  },
  {
   "cell_type": "code",
   "execution_count": 27,
   "metadata": {},
   "outputs": [
    {
     "name": "stdout",
     "output_type": "stream",
     "text": [
      "3 4 7\n",
      "7\n"
     ]
    }
   ],
   "source": [
    "a = 3\n",
    "b = 4\n",
    "c = a+b\n",
    "\n",
    "print (a,b,c)\n",
    "print (c)"
   ]
  },
  {
   "cell_type": "markdown",
   "metadata": {},
   "source": [
    "You can format number output.  In this example, the \".7f\" tells the code to print out seven digits left of the decimal point."
   ]
  },
  {
   "cell_type": "code",
   "execution_count": 29,
   "metadata": {},
   "outputs": [
    {
     "name": "stdout",
     "output_type": "stream",
     "text": [
      "1.4142136\n",
      "27.4142136\n"
     ]
    }
   ],
   "source": [
    "print('{:.7f}'.format(1.41421356237))\n",
    "print('{:.7f}'.format(27.41421356237))"
   ]
  },
  {
   "cell_type": "markdown",
   "metadata": {},
   "source": [
    "### Mathematical operations\n",
    "\n",
    "Most mathematical operations don't come automatically loaded into Python.  If you need special operations (e.g., log10, pi, square root), you'll need to import them from python's math library."
   ]
  },
  {
   "cell_type": "code",
   "execution_count": 33,
   "metadata": {},
   "outputs": [
    {
     "name": "stdout",
     "output_type": "stream",
     "text": [
      "3.141592653589793\n"
     ]
    }
   ],
   "source": [
    "# import pi from the python math library\n",
    "from math import pi\n",
    "\n",
    "print (pi)"
   ]
  },
  {
   "cell_type": "code",
   "execution_count": 34,
   "metadata": {},
   "outputs": [
    {
     "name": "stdout",
     "output_type": "stream",
     "text": [
      "3.14159\n"
     ]
    }
   ],
   "source": [
    "# format the print statement to truncate pi at 5 decimal places in floating point \"%f\" format.\n",
    "\n",
    "print (\"{:.5f}\".format(pi))"
   ]
  },
  {
   "cell_type": "code",
   "execution_count": 35,
   "metadata": {},
   "outputs": [
    {
     "name": "stdout",
     "output_type": "stream",
     "text": [
      "10\n",
      "3.1622776601683795\n"
     ]
    }
   ],
   "source": [
    "print (abs(-10))\n",
    "\n",
    "from math import sqrt\n",
    "print (sqrt(10))"
   ]
  },
  {
   "cell_type": "markdown",
   "metadata": {},
   "source": [
    "## Numpy\n",
    "There are a lot of advantages to using numpy and similar useful features in python.   A principle one is that you can operate on vector variables.  For example, say you have two vectors (a,b) that you want to add together or multiply together.  Numpy allows you to do that directly: a+b, or axb, rather than having to deal with each elements.  "
   ]
  },
  {
   "cell_type": "code",
   "execution_count": 42,
   "metadata": {},
   "outputs": [
    {
     "name": "stdout",
     "output_type": "stream",
     "text": [
      "x =  [0 1 2 3 4]\n",
      "zeros =  [0. 0. 0. 0. 0.]\n",
      "noise =  [-0.3  -0.69  1.35 -0.33 -1.57]\n"
     ]
    }
   ],
   "source": [
    "# import the numpy module, and give it a nickname \"np\"\n",
    "import numpy as np\n",
    "\n",
    "# The basic structure of the Numpy module is the Numpy Array.\n",
    "# Numpy arrays were invented to mimic the functionality of\n",
    "# MATLAB arrays, and also IDL arrays.\n",
    "\n",
    "x = np.arange(5) # Creates an array of 5 intergers, beginning at 0\n",
    "zeros = np.zeros(5) # Array of five zeros \n",
    "noise = np.random.randn(5) # Array of five Gaussian random numbers\n",
    "\n",
    "print ('x = ', x)\n",
    "print ('zeros = ', zeros)\n",
    "print ('noise = ', np.round(noise,2))\n"
   ]
  },
  {
   "cell_type": "code",
   "execution_count": 43,
   "metadata": {},
   "outputs": [
    {
     "name": "stdout",
     "output_type": "stream",
     "text": [
      "[0 2 4 6 8]\n",
      "[-0.30089683  0.31398853  3.35384333  2.66538768  2.43088011]\n"
     ]
    }
   ],
   "source": [
    "# By default, arrays add element-by-element, and they have\n",
    "# powerful indexing and masking functionality\n",
    "print (x + x)\n",
    "print (x + noise)"
   ]
  },
  {
   "cell_type": "markdown",
   "metadata": {},
   "source": [
    "## Variables and Numpy\n",
    "\n",
    "Numpy can be a little picky when it comes to variables.  Basically, they have to be accessed using square brackets, and the indexing starts at zero.  But when you get use to that, numpy is very handy for slicing arrays."
   ]
  },
  {
   "cell_type": "code",
   "execution_count": 48,
   "metadata": {},
   "outputs": [
    {
     "data": {
      "text/plain": [
       "array([-0.30089683, -0.68601147,  1.35384333, -0.33461232, -1.56911989])"
      ]
     },
     "execution_count": 48,
     "metadata": {},
     "output_type": "execute_result"
    }
   ],
   "source": [
    "noise"
   ]
  },
  {
   "cell_type": "code",
   "execution_count": 50,
   "metadata": {},
   "outputs": [
    {
     "data": {
      "text/plain": [
       "1.3538433327389028"
      ]
     },
     "execution_count": 50,
     "metadata": {},
     "output_type": "execute_result"
    }
   ],
   "source": [
    "noise[2]"
   ]
  },
  {
   "cell_type": "code",
   "execution_count": 51,
   "metadata": {},
   "outputs": [
    {
     "data": {
      "text/plain": [
       "array([-0.30089683, -0.68601147])"
      ]
     },
     "execution_count": 51,
     "metadata": {},
     "output_type": "execute_result"
    }
   ],
   "source": [
    "noise[:2]"
   ]
  },
  {
   "cell_type": "code",
   "execution_count": 52,
   "metadata": {},
   "outputs": [
    {
     "data": {
      "text/plain": [
       "array([ 1.35384333, -0.33461232, -1.56911989])"
      ]
     },
     "execution_count": 52,
     "metadata": {},
     "output_type": "execute_result"
    }
   ],
   "source": [
    "noise[2:]"
   ]
  },
  {
   "cell_type": "code",
   "execution_count": 53,
   "metadata": {},
   "outputs": [
    {
     "data": {
      "text/plain": [
       "array([-0.68601147,  1.35384333])"
      ]
     },
     "execution_count": 53,
     "metadata": {},
     "output_type": "execute_result"
    }
   ],
   "source": [
    "noise[1:3]"
   ]
  },
  {
   "cell_type": "markdown",
   "metadata": {},
   "source": [
    "## Indentation\n",
    "\n",
    "Note that Python does not use brackets, braces, or parentheses, or even \"end\" statements in it control flows.  Everything is controlled using indentation.  You are free to pick your own level of indendation, but it is conventional to use 4 spaces.\n",
    "\n",
    "For example, suppose we want to iterate through a 2D array and check the value of each element.  First create the array, and make sure it is the size you want:"
   ]
  },
  {
   "cell_type": "code",
   "execution_count": 61,
   "metadata": {},
   "outputs": [
    {
     "name": "stdout",
     "output_type": "stream",
     "text": [
      "(100, 100)\n",
      "4.104061107434035\n"
     ]
    }
   ],
   "source": [
    "noise = np.random.randn(100,100) # 2D image of Gaussian noise\n",
    "\n",
    "print (noise.shape)\n",
    "print (noise.max())"
   ]
  },
  {
   "cell_type": "code",
   "execution_count": 62,
   "metadata": {},
   "outputs": [
    {
     "name": "stdout",
     "output_type": "stream",
     "text": [
      "100 100\n",
      "1\n",
      "4 Sigma Detection!  4.104061107434035\n"
     ]
    }
   ],
   "source": [
    "detections = 0\n",
    "print (noise.shape[0], noise.shape[1])\n",
    "print (np.sum(noise > 4))\n",
    "for i in range(noise.shape[0]):\n",
    "    for j in range(noise.shape[1]):\n",
    "        if noise[i,j] > 4:\n",
    "            detections += 1\n",
    "            print ('4 Sigma Detection! ', noise[i,j])\n",
    "if detections==0:\n",
    "    print ('No detections, need more observing time.')"
   ]
  },
  {
   "cell_type": "code",
   "execution_count": null,
   "metadata": {},
   "outputs": [],
   "source": []
  }
 ],
 "metadata": {
  "kernelspec": {
   "display_name": "Python 3",
   "language": "python",
   "name": "python3"
  },
  "language_info": {
   "codemirror_mode": {
    "name": "ipython",
    "version": 3
   },
   "file_extension": ".py",
   "mimetype": "text/x-python",
   "name": "python",
   "nbconvert_exporter": "python",
   "pygments_lexer": "ipython3",
   "version": "3.7.3"
  }
 },
 "nbformat": 4,
 "nbformat_minor": 2
}
