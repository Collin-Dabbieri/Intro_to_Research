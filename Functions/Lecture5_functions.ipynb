{
 "cells": [
  {
   "cell_type": "code",
   "execution_count": 1,
   "metadata": {},
   "outputs": [],
   "source": [
    "%matplotlib inline\n",
    "import numpy as np\n",
    "import matplotlib.pyplot as plt"
   ]
  },
  {
   "cell_type": "markdown",
   "metadata": {},
   "source": [
    "## Functions\n",
    "\n",
    "The advantage of using a computer to do computations is that you can easily create a method to do something repeatedly.  The simplest method to do this in python is with a function.\n",
    "\n",
    "A basic definition of a function: a set of actions that we group together.  \n",
    "\n",
    "Python has many functions already built in (e.g., the np.sine etc that you used in the plotting unit), but here we are talking about functions that we need to write ourselves.\n",
    "\n",
    "The basic things to remember with functions is:\n",
    "\n",
    "- Defining the function \n",
    "  - first write the keyword def which signals that a function follows.\n",
    "  - give the function a name.  No spaces in the function name.\n",
    "  - parentheses enclose the arguments, i.e., inputs.\n",
    "  - end the first line with a colon.\n",
    "  - subsequent lines are indented.\n",
    " \n",
    "- Using the function\n",
    "  - to call the function, write its name followed by parenthesis enclosing the variables that you have defined.\n",
    "  "
   ]
  },
  {
   "cell_type": "markdown",
   "metadata": {},
   "source": [
    "  \n",
    "So the basic schematic of a function is:\n",
    "\n",
    "\n",
    "```\n",
    "# defining a function.\n",
    "\n",
    "def function_name(argument_1,argument_2):\n",
    "       # Do what we want to \n",
    "       # argument_1 and argument_2.\n",
    "       # This can include for loops, if statements, etc.\n",
    "       \n",
    "# calling (executing) the function\n",
    "\n",
    "function_name(value_1, value_2)\n",
    "```\n",
    "  \n",
    "Let's write a basic function."
   ]
  },
  {
   "cell_type": "code",
   "execution_count": 2,
   "metadata": {},
   "outputs": [],
   "source": [
    "def happy_birthday(name):\n",
    "    print('Happy Birthday, '+name+'!')"
   ]
  },
  {
   "cell_type": "code",
   "execution_count": 3,
   "metadata": {},
   "outputs": [
    {
     "name": "stdout",
     "output_type": "stream",
     "text": [
      "Happy Birthday, Brigitta!\n"
     ]
    }
   ],
   "source": [
    "name='Brigitta'\n",
    "happy_birthday(name)"
   ]
  },
  {
   "cell_type": "markdown",
   "metadata": {},
   "source": [
    "You can see the advantage of this little program - every time one of your friends has a birthday, you can just define the name and execute the code.  "
   ]
  },
  {
   "cell_type": "markdown",
   "metadata": {},
   "source": [
    "### Try this.\n",
    "\n",
    "Below find a cell which contains the days of the week.  Write a function that will take an input day, and then will print 'Ugh, I have to go to work.' if the day is among the weekdays, or will print 'Yay, its the weekend!' if it is saturday or sunday."
   ]
  },
  {
   "cell_type": "code",
   "execution_count": 4,
   "metadata": {},
   "outputs": [],
   "source": [
    "days_of_the_week=['Monday','Tuesday','Wednesday','Thursday','Friday','Saturday','Sunday']"
   ]
  },
  {
   "cell_type": "code",
   "execution_count": 5,
   "metadata": {},
   "outputs": [],
   "source": [
    "def which_day(day):\n",
    "    if day in days_of_the_week[:5]:\n",
    "        print ('Ugh, I have to go to work')\n",
    "    else:\n",
    "        print ('Yay, its the weekend!')\n"
   ]
  },
  {
   "cell_type": "code",
   "execution_count": 6,
   "metadata": {},
   "outputs": [
    {
     "name": "stdout",
     "output_type": "stream",
     "text": [
      "Ugh, I have to go to work\n",
      "Yay, its the weekend!\n"
     ]
    }
   ],
   "source": [
    "day='Monday'\n",
    "which_day(day)\n",
    "\n",
    "day='Saturday'\n",
    "which_day(day)"
   ]
  },
  {
   "cell_type": "markdown",
   "metadata": {},
   "source": [
    "## Advantages of Functions\n",
    "\n",
    "The advantages of functions are clear:\n",
    " - We write a set of instructions once.\n",
    " - Once the function is debugged, then you don't have to worry about that task any more.  \n",
    " - You can modify a function's behavior, and that change takes effect each time the function is called.  \n",
    " \n",
    "The opposite to writing functions is sometimes called _hard coding_.  That is, each time you want to do a specific task to a new variable or parameter, you copy and paste that from one place in the program to the other.  The disadvantage comes when you either find an error or need to modify what you have done.  You would have to hunt through potentially many lines of code to locate all the instances of that particular issue."
   ]
  },
  {
   "cell_type": "markdown",
   "metadata": {},
   "source": [
    "## Returning a value or values\n",
    "\n",
    "Often in data analysis and computation, you not only want to do something to some parameters, but return a value or values to the program to be used for something else.  This requires just a small modification of the above.\n",
    "\n",
    "```\n",
    "def another_function(argument_1,argument_2):\n",
    "       # Do what we want to \n",
    "       # argument_1 and argument_2.\n",
    "       # for example:\n",
    "       # y=argument_1+argument_2\n",
    "       return y\n",
    "       \n",
    "# calling (executing) the function\n",
    "\n",
    "y=function_name(value_1, value_2)\n",
    "```\n"
   ]
  },
  {
   "cell_type": "code",
   "execution_count": 7,
   "metadata": {},
   "outputs": [
    {
     "name": "stdout",
     "output_type": "stream",
     "text": [
      "12\n"
     ]
    }
   ],
   "source": [
    "def adder(x1,x2):\n",
    "    y=x1+x2\n",
    "    return y\n",
    "\n",
    "x1=5\n",
    "x2=7\n",
    "\n",
    "y=adder(x1,x2)\n",
    "print (y)"
   ]
  },
  {
   "cell_type": "markdown",
   "metadata": {},
   "source": [
    "### Important to keep in mind for return statements:\n",
    "\n",
    "The function will quit once the return has been executed."
   ]
  },
  {
   "cell_type": "code",
   "execution_count": 8,
   "metadata": {},
   "outputs": [
    {
     "name": "stdout",
     "output_type": "stream",
     "text": [
      "12\n"
     ]
    }
   ],
   "source": [
    "def adder_multiplier(x1,x2):\n",
    "    y=x1+x2\n",
    "    if y >= 0:\n",
    "        return y\n",
    "    z=x1*x2\n",
    "    if z >= 0:\n",
    "        return z    \n",
    "\n",
    "x1=5\n",
    "x2=7\n",
    "\n",
    "y=adder_multiplier(x1,x2)\n",
    "print (y)"
   ]
  },
  {
   "cell_type": "markdown",
   "metadata": {},
   "source": [
    "### The way to work around this problem\n",
    "\n",
    "is to not return anything until you have done everything you have set out to do.  For example, we can fix the above as follows.  \n",
    "\n",
    "This example also shows that you can return multiple things from a single function call."
   ]
  },
  {
   "cell_type": "code",
   "execution_count": 9,
   "metadata": {},
   "outputs": [
    {
     "name": "stdout",
     "output_type": "stream",
     "text": [
      "12.0 35.0\n",
      "0 0\n"
     ]
    }
   ],
   "source": [
    "def adder_multiplier_new(x1,x2):\n",
    "    result1=x1+x2\n",
    "    result2=x1*x2\n",
    "    null_value=0\n",
    "    if (result1 >= 0.0) & (result2 >=0.0):\n",
    "        return result1,result2\n",
    "    if (result1 >=0) & (result2 < 0):\n",
    "        return result1,null_value\n",
    "    if (result2 >=0) & (result1 < 0):\n",
    "        return null_value,result2\n",
    "    if (result1 < 0) & (result1 < 0):\n",
    "        return null_value,null_value\n",
    "\n",
    "\n",
    "x1=5.0\n",
    "x2=7.0\n",
    "\n",
    "result1,result2=adder_multiplier_new(x1,x2)\n",
    "print (result1,result2)\n",
    "\n",
    "x3=5.0\n",
    "x4=-7.0\n",
    "\n",
    "result3,result4=adder_multiplier_new(x3,x4)\n",
    "print (result3,result4)\n",
    "\n"
   ]
  },
  {
   "cell_type": "markdown",
   "metadata": {},
   "source": [
    "## Position in the argument string is important\n",
    "\n",
    "In python, the position of an argument is critical.  For example, consider the following example."
   ]
  },
  {
   "cell_type": "code",
   "execution_count": 10,
   "metadata": {},
   "outputs": [
    {
     "name": "stdout",
     "output_type": "stream",
     "text": [
      "<class 'str'>\n",
      "<class 'int'>\n"
     ]
    }
   ],
   "source": [
    "def born_on(month,day):\n",
    "    str_out='I was born on '+month+' '+str(day)+'.'\n",
    "    print (str_out)\n",
    "    \n",
    "month='April'\n",
    "day=30\n",
    "\n",
    "print (type(month))\n",
    "print (type(day))"
   ]
  },
  {
   "cell_type": "code",
   "execution_count": 11,
   "metadata": {},
   "outputs": [
    {
     "name": "stdout",
     "output_type": "stream",
     "text": [
      "I was born on April 30.\n"
     ]
    }
   ],
   "source": [
    "born_on(month,day)"
   ]
  },
  {
   "cell_type": "code",
   "execution_count": 12,
   "metadata": {},
   "outputs": [
    {
     "ename": "TypeError",
     "evalue": "can only concatenate str (not \"int\") to str",
     "output_type": "error",
     "traceback": [
      "\u001b[0;31m---------------------------------------------------------------------------\u001b[0m",
      "\u001b[0;31mTypeError\u001b[0m                                 Traceback (most recent call last)",
      "\u001b[0;32m<ipython-input-12-17b0eeaf0a17>\u001b[0m in \u001b[0;36m<module>\u001b[0;34m\u001b[0m\n\u001b[0;32m----> 1\u001b[0;31m \u001b[0mborn_on\u001b[0m\u001b[0;34m(\u001b[0m\u001b[0mday\u001b[0m\u001b[0;34m,\u001b[0m\u001b[0mmonth\u001b[0m\u001b[0;34m)\u001b[0m\u001b[0;34m\u001b[0m\u001b[0;34m\u001b[0m\u001b[0m\n\u001b[0m",
      "\u001b[0;32m<ipython-input-10-9c3b23ba12bf>\u001b[0m in \u001b[0;36mborn_on\u001b[0;34m(month, day)\u001b[0m\n\u001b[1;32m      1\u001b[0m \u001b[0;32mdef\u001b[0m \u001b[0mborn_on\u001b[0m\u001b[0;34m(\u001b[0m\u001b[0mmonth\u001b[0m\u001b[0;34m,\u001b[0m\u001b[0mday\u001b[0m\u001b[0;34m)\u001b[0m\u001b[0;34m:\u001b[0m\u001b[0;34m\u001b[0m\u001b[0;34m\u001b[0m\u001b[0m\n\u001b[0;32m----> 2\u001b[0;31m     \u001b[0mstr_out\u001b[0m\u001b[0;34m=\u001b[0m\u001b[0;34m'I was born on '\u001b[0m\u001b[0;34m+\u001b[0m\u001b[0mmonth\u001b[0m\u001b[0;34m+\u001b[0m\u001b[0;34m' '\u001b[0m\u001b[0;34m+\u001b[0m\u001b[0mstr\u001b[0m\u001b[0;34m(\u001b[0m\u001b[0mday\u001b[0m\u001b[0;34m)\u001b[0m\u001b[0;34m+\u001b[0m\u001b[0;34m'.'\u001b[0m\u001b[0;34m\u001b[0m\u001b[0;34m\u001b[0m\u001b[0m\n\u001b[0m\u001b[1;32m      3\u001b[0m     \u001b[0mprint\u001b[0m \u001b[0;34m(\u001b[0m\u001b[0mstr_out\u001b[0m\u001b[0;34m)\u001b[0m\u001b[0;34m\u001b[0m\u001b[0;34m\u001b[0m\u001b[0m\n\u001b[1;32m      4\u001b[0m \u001b[0;34m\u001b[0m\u001b[0m\n\u001b[1;32m      5\u001b[0m \u001b[0mmonth\u001b[0m\u001b[0;34m=\u001b[0m\u001b[0;34m'April'\u001b[0m\u001b[0;34m\u001b[0m\u001b[0;34m\u001b[0m\u001b[0m\n",
      "\u001b[0;31mTypeError\u001b[0m: can only concatenate str (not \"int\") to str"
     ]
    }
   ],
   "source": [
    "born_on(day,month)"
   ]
  },
  {
   "cell_type": "markdown",
   "metadata": {},
   "source": [
    "### A way to get around this limitation is through the use of keyword arguments.  \n",
    "\n",
    "That is, you can specify the arguments in any order if you equate them to the _keyword_, which is the name of the argument in the definition statement.  See the following example."
   ]
  },
  {
   "cell_type": "code",
   "execution_count": 13,
   "metadata": {},
   "outputs": [
    {
     "name": "stdout",
     "output_type": "stream",
     "text": [
      "I was born on April 30.\n",
      "I was born on April 30.\n",
      "I was born on June 7.\n"
     ]
    }
   ],
   "source": [
    "born_on(day=day,month=month)\n",
    "born_on(month=month,day=day)\n",
    "born_on(day=7,month='June')"
   ]
  },
  {
   "cell_type": "markdown",
   "metadata": {},
   "source": [
    "## Making functions more flexible.\n",
    "\n",
    "There are ways to make your functions more flexible.  This can result in making your code more compact.  \n",
    "\n",
    "However, note:\n",
    " - It is better to get your code working _before_ you try to optimize it.\n",
    " \n",
    "Remember, as scientists, generally we care about the physical results, and not the aesthetics of the code.  The first goal is to get some code that works and be certain that it is working correctly, and that is often sufficient.  \n",
    "\n",
    "(There are exceptions to this statement.  If your code takes a long time to run, it may be worth working to try to make it more efficient.  But the first goal is to get something that runs.)\n",
    "\n",
    "So the following tweaks may be not be necessary."
   ]
  },
  {
   "cell_type": "markdown",
   "metadata": {},
   "source": [
    "### Default arguments\n",
    "\n",
    "Say you have a piece of code that you want to execute on some data, and say that, for some reason, nine times out of ten, one of the input values will always be, for example, equal to 2.  It is probably more efficient if you write your function so that it takes the value 2 as a default."
   ]
  },
  {
   "cell_type": "code",
   "execution_count": 14,
   "metadata": {},
   "outputs": [
    {
     "name": "stdout",
     "output_type": "stream",
     "text": [
      "7 7.0\n",
      "7 5\n"
     ]
    }
   ],
   "source": [
    "def doing_something(x1,x2=2):\n",
    "    print (x1,x2)\n",
    "    \n",
    "x1=7\n",
    "\n",
    "doing_something(x1,x2)\n",
    "\n",
    "x1=7\n",
    "x2=5\n",
    "\n",
    "doing_something(x1,x2)"
   ]
  },
  {
   "cell_type": "markdown",
   "metadata": {},
   "source": [
    "## Mixing positional and keyword arguments\n",
    "\n",
    "Sometimes you need a function which will always require a certain number of arguments, but then has some flexibility to include others if they are present.  \n",
    "\n",
    "For these, you can specify positional arguments for the necessary ones, and keyword arguments set equal to \"None\" for the optional ones.  \n",
    "\n",
    "**Note:**  If you mix positional and keyword arguments, the positional need to come first."
   ]
  },
  {
   "cell_type": "code",
   "execution_count": 15,
   "metadata": {},
   "outputs": [
    {
     "name": "stdout",
     "output_type": "stream",
     "text": [
      "I was born on April 30.\n",
      "That was a Thursday.\n"
     ]
    }
   ],
   "source": [
    "def born_on(month,date,day_of_the_week=None):\n",
    "    str_out='I was born on '+month+' '+str(date)+'.'\n",
    "    print (str_out)\n",
    "    if day_of_the_week:\n",
    "        print ('That was a '+day_of_the_week+'.')\n",
    "    \n",
    "month='April'\n",
    "date=30\n",
    "day_of_the_week='Thursday'\n",
    "\n",
    "born_on(month,date,day_of_the_week)"
   ]
  },
  {
   "cell_type": "code",
   "execution_count": 16,
   "metadata": {},
   "outputs": [
    {
     "name": "stdout",
     "output_type": "stream",
     "text": [
      "I was born on April 30.\n"
     ]
    }
   ],
   "source": [
    "born_on(month,date)"
   ]
  },
  {
   "cell_type": "markdown",
   "metadata": {},
   "source": [
    "---\n",
    "\n",
    "# Blackbody spectrum (aka the Planck function)\n",
    "\n",
    "The blackbody spectrum is specified as:\n",
    "\n",
    "$$B_\\lambda(T)=\\frac{2hc^2/\\lambda^5}{exp(hc/\\lambda k T)-1}$$\n",
    "\n",
    "where $h$ is the Planck constant, $c$ is the speed of light, $\\lambda$ is the wavelength, $h$ is the Boltzmann constant, and $T$ is the temperature.\n",
    "\n",
    "Our goal is to write a function to compute the function for input wavelength vector and temperature.\n"
   ]
  },
  {
   "cell_type": "markdown",
   "metadata": {},
   "source": [
    "## Scientific constants\n",
    "\n",
    "Normally, you need to look up the specified constants and either define them as variables (better) or type them in your equation (more prone to mistakes).  Fortunately, python already has packages with these constants available. We will use \"astropy\" https://docs.astropy.org/en/stable/ ."
   ]
  },
  {
   "cell_type": "code",
   "execution_count": 17,
   "metadata": {},
   "outputs": [],
   "source": [
    "from astropy import constants as const"
   ]
  },
  {
   "cell_type": "code",
   "execution_count": 18,
   "metadata": {},
   "outputs": [
    {
     "name": "stdout",
     "output_type": "stream",
     "text": [
      "  Name   = Planck constant\n",
      "  Value  = 6.62607004e-34\n",
      "  Uncertainty  = 8.1e-42\n",
      "  Unit  = J s\n",
      "  Reference = CODATA 2014\n"
     ]
    }
   ],
   "source": [
    "print (const.h)"
   ]
  },
  {
   "cell_type": "code",
   "execution_count": 19,
   "metadata": {},
   "outputs": [
    {
     "name": "stdout",
     "output_type": "stream",
     "text": [
      "6.62607004e-27 erg s\n"
     ]
    }
   ],
   "source": [
    "print (const.h.cgs)"
   ]
  },
  {
   "cell_type": "code",
   "execution_count": 20,
   "metadata": {},
   "outputs": [
    {
     "name": "stdout",
     "output_type": "stream",
     "text": [
      "  Name   = Boltzmann constant\n",
      "  Value  = 1.38064852e-23\n",
      "  Uncertainty  = 7.9e-30\n",
      "  Unit  = J / K\n",
      "  Reference = CODATA 2014\n"
     ]
    }
   ],
   "source": [
    "print (const.k_B)"
   ]
  },
  {
   "cell_type": "code",
   "execution_count": 21,
   "metadata": {},
   "outputs": [
    {
     "name": "stdout",
     "output_type": "stream",
     "text": [
      "1.38064852e-16 erg / K\n"
     ]
    }
   ],
   "source": [
    "print (const.k_B.cgs)"
   ]
  },
  {
   "cell_type": "code",
   "execution_count": 22,
   "metadata": {
    "scrolled": true
   },
   "outputs": [
    {
     "name": "stdout",
     "output_type": "stream",
     "text": [
      "  Name   = Speed of light in vacuum\n",
      "  Value  = 299792458.0\n",
      "  Uncertainty  = 0.0\n",
      "  Unit  = m / s\n",
      "  Reference = CODATA 2014\n"
     ]
    }
   ],
   "source": [
    "print (const.c)"
   ]
  },
  {
   "cell_type": "code",
   "execution_count": 23,
   "metadata": {},
   "outputs": [
    {
     "name": "stdout",
     "output_type": "stream",
     "text": [
      "29979245800.0 cm / s\n"
     ]
    }
   ],
   "source": [
    "print (const.c.cgs)"
   ]
  },
  {
   "cell_type": "markdown",
   "metadata": {},
   "source": [
    "## Wavelength Range\n",
    "\n",
    "Next we will need to make some decisions about our independent variable wavelength.  Most of the time we will be working in the optical band, so we will use Angstroms ($\\overset{\\circ}{A}$), although people working in different bands use different units.  In addition, Europeans sometimes use nanometers for the optical band.\n",
    "\n",
    "But we will also consider emission beyond the optical.  The bandpasses are defined roughly as:\n",
    "\n",
    "The astronomical bands are given by (approximately):\n",
    "\n",
    "- Gamma Rays $(\\lambda < 0.1 \\overset{\\circ}{A})$\n",
    "- X-rays $(1 \\overset{\\circ}{A} < \\lambda < 10 \\overset{\\circ}{A})$\n",
    "- UV $( \\overset{\\circ}{A} < \\lambda < 10,000 \\overset{\\circ}{A})$\n",
    "- Visible $( \\sim 3150 \\overset{\\circ}{A} < \\lambda < \\sim 10,000 \\overset{\\circ}{A})$\n",
    "- Near Infrared $( \\sim 9500 \\overset{\\circ}{A} < \\lambda < \\sim 50,000 \\overset{\\circ}{A})$\n",
    "- Mid Infrared $( 7.5 \\mu m  < \\lambda < 25 \\mu m)$\n",
    "- Far Infrared \n",
    "- Submillimeter\n",
    "- Radio\n",
    "\n",
    "The eye has significant sensitivity between 4000 (violet) and 7600 (red) Angstroms.\n",
    "\n",
    "----\n",
    "\n",
    "For this exercise, let's consider the band between 10 Angstroms and 10000 Angstroms, and let's create a wavelength vector to do that."
   ]
  },
  {
   "cell_type": "code",
   "execution_count": 24,
   "metadata": {},
   "outputs": [],
   "source": [
    "\n",
    "np.logspace?"
   ]
  },
  {
   "cell_type": "code",
   "execution_count": 40,
   "metadata": {},
   "outputs": [
    {
     "name": "stdout",
     "output_type": "stream",
     "text": [
      "<class 'numpy.ndarray'>\n"
     ]
    }
   ],
   "source": [
    "wave=np.logspace(2,4,1000,endpoint=True)\n",
    "print (type(wave))"
   ]
  },
  {
   "cell_type": "code",
   "execution_count": 41,
   "metadata": {},
   "outputs": [
    {
     "name": "stdout",
     "output_type": "stream",
     "text": [
      "100.0\n",
      "10000.0\n",
      "(1000,)\n"
     ]
    }
   ],
   "source": [
    "print (wave[0])\n",
    "print (wave[-1])\n",
    "print (wave.shape)"
   ]
  },
  {
   "cell_type": "markdown",
   "metadata": {},
   "source": [
    "## Temperature Range\n",
    "\n",
    "What temperatures should we consider?  We're going to be looking at stellar spectra, where the range of temperatures is about 42,000K for an O5 star down to 2860K for a M7 star.  Cooler spectral types have been found, but they are difficult to find and observe."
   ]
  },
  {
   "cell_type": "markdown",
   "metadata": {},
   "source": [
    "## Anything else we need?"
   ]
  },
  {
   "cell_type": "code",
   "execution_count": 42,
   "metadata": {},
   "outputs": [
    {
     "name": "stdout",
     "output_type": "stream",
     "text": [
      "2.718281828459045\n"
     ]
    }
   ],
   "source": [
    "print (np.exp(1.0))"
   ]
  },
  {
   "cell_type": "markdown",
   "metadata": {},
   "source": [
    "## What about the units?  \n",
    "\n",
    "Better do some dimensional analysis first:\n",
    "\n",
    "$$B_\\lambda(T)=\\frac{2hc^2/\\lambda^5}{exp(hc/\\lambda k T)-1}$$\n",
    "\n"
   ]
  },
  {
   "cell_type": "markdown",
   "metadata": {},
   "source": [
    "Write a function that, given the input wavelength and the temperature of the blackbody, will return the flux density."
   ]
  },
  {
   "cell_type": "code",
   "execution_count": 57,
   "metadata": {},
   "outputs": [],
   "source": [
    "def compute_planck(wave,T):\n",
    "    wave_cm=1.0e-8*wave\n",
    "    temp1=2.0*const.h.cgs*const.c.cgs/(wave_cm**5)\n",
    "    temp2=const.h.cgs*const.c.cgs/(wave_cm*const.k_B.cgs*T)\n",
    "    bb=temp1.value/(np.exp(temp2.value)-1.0)\n",
    "    return bb"
   ]
  },
  {
   "cell_type": "code",
   "execution_count": 75,
   "metadata": {},
   "outputs": [],
   "source": [
    "T=50000.0\n",
    "bb=compute_planck(wave,T)"
   ]
  },
  {
   "cell_type": "code",
   "execution_count": 76,
   "metadata": {},
   "outputs": [
    {
     "name": "stdout",
     "output_type": "stream",
     "text": [
      "426926816.0444831\n"
     ]
    },
    {
     "data": {
      "text/plain": [
       "[<matplotlib.lines.Line2D at 0x11cd26410>]"
      ]
     },
     "execution_count": 76,
     "metadata": {},
     "output_type": "execute_result"
    },
    {
     "data": {
      "image/png": "[encoded data removed]",
      "text/plain": [
       "<Figure size 432x288 with 1 Axes>"
      ]
     },
     "metadata": {
      "needs_background": "light"
     },
     "output_type": "display_data"
    }
   ],
   "source": [
    "print (bb.max())\n",
    "plt.loglog(wave,bb)\n"
   ]
  },
  {
   "cell_type": "markdown",
   "metadata": {},
   "source": [
    "#### Notice how, once we define the function, we can use it in any cell henceforth."
   ]
  },
  {
   "cell_type": "markdown",
   "metadata": {},
   "source": [
    "## Try this\n",
    "\n",
    "### Part 1:\n",
    "\n",
    "Write a function that will compute a blackbody spectrum for any input temperature, but will take, instead of the wavelength vector, starting and stopping wavelength points, and number of points in the wavelength vector.  If the number of points is not specified, it will assume that there will be 1000 points.  Have it return both the planck spectrum and the wavelength vector.\n",
    "\n",
    "Also, because we will be trying to match stellar spectra with a range of brightnesses, you will need to include a normalization factor to make the blackbody spectrum stronger or weaker in intensity.  But let this argument be optional."
   ]
  },
  {
   "cell_type": "code",
   "execution_count": 127,
   "metadata": {},
   "outputs": [],
   "source": [
    "def compute_planck_general(T,start_wave,stop_wave,norm=1,numwave=1000):\n",
    "    wave_new=np.logspace(np.log10(start_wave),np.log10(stop_wave), \\\n",
    "            1000,endpoint=True)\n",
    "    wave_cm=1.0e-8*wave_new\n",
    "    temp1=2.0*const.h.cgs*const.c.cgs/(wave_cm**5)\n",
    "    temp2=const.h.cgs*const.c.cgs/(wave_cm*const.k_B.cgs*T)\n",
    "    bb=norm*temp1.value/(np.exp(temp2.value)-1.0)\n",
    "    return wave_new,bb"
   ]
  },
  {
   "cell_type": "code",
   "execution_count": 129,
   "metadata": {},
   "outputs": [
    {
     "name": "stdout",
     "output_type": "stream",
     "text": [
      "[4000.         4002.24133157 4004.48391903 4006.72776308 4008.97286443\n",
      " 4011.21922379 4013.46684186 4015.71571934 4017.96585694 4020.21725537]\n"
     ]
    },
    {
     "data": {
      "text/plain": [
       "[<matplotlib.lines.Line2D at 0x11d3a7e50>]"
      ]
     },
     "execution_count": 129,
     "metadata": {},
     "output_type": "execute_result"
    },
    {
     "data": {
      "image/png": "[encoded data removed]",
      "text/plain": [
       "<Figure size 432x288 with 1 Axes>"
      ]
     },
     "metadata": {
      "needs_background": "light"
     },
     "output_type": "display_data"
    }
   ],
   "source": [
    "start_wave=4000.0\n",
    "stop_wave=7000.0\n",
    "T=3000.0\n",
    "wave_new,bb_new=compute_planck_general(T,start_wave,stop_wave,norm=10.0)\n",
    "print (wave_new[0:10])\n",
    "plt.plot(wave_new,bb_new)"
   ]
  },
  {
   "cell_type": "markdown",
   "metadata": {},
   "source": [
    "### Part 2:\n",
    "\n",
    "Devise a series of sanity checks that show that your function works the way you expect.  \n",
    "\n",
    "- First explain your sanity checks - what do you need to check to be sure your function is working correctly?  Write this in a markdown cell.\n",
    "- Then do the sanity checks and comment on the results."
   ]
  },
  {
   "cell_type": "code",
   "execution_count": 160,
   "metadata": {},
   "outputs": [],
   "source": [
    "# Haven't done this yet."
   ]
  },
  {
   "cell_type": "markdown",
   "metadata": {},
   "source": [
    "## Bonus exercise\n",
    "\n",
    "Write a program that will create a plot showing the blackbody function for ten temperatures, base-10 logarithmically spaced, between 27,000K to 2700K.  \n",
    "\n",
    "For this, use the coolwarm color map, and be sure that the hotter blackbodies are blue and the cooler ones are red."
   ]
  },
  {
   "cell_type": "code",
   "execution_count": 149,
   "metadata": {},
   "outputs": [
    {
     "name": "stdout",
     "output_type": "stream",
     "text": [
      "[ 2700.          3487.18409554  4503.87145044  5816.97366309\n",
      "  7512.91038596  9703.29689227 12532.28985075 16186.07475861\n",
      " 20905.11943239 27000.        ]\n"
     ]
    }
   ],
   "source": [
    "# set up temperatures\n",
    "temperatures=np.logspace(np.log10(2700.0),np.log10(27000.0),10,endpoint=True)\n",
    "print (temperatures)"
   ]
  },
  {
   "cell_type": "code",
   "execution_count": 150,
   "metadata": {},
   "outputs": [],
   "source": [
    "# set up color map with 10 colors\n",
    "\n",
    "from matplotlib import cm\n",
    "\n",
    "start=0.0\n",
    "stop=1.0\n",
    "number_of_lines=10\n",
    "cm_subsection = np.linspace(start, stop, number_of_lines)\n",
    "colors = [ cm.coolwarm(x) for x in cm_subsection ]\n",
    "\n"
   ]
  },
  {
   "cell_type": "code",
   "execution_count": 158,
   "metadata": {},
   "outputs": [],
   "source": [
    "def make_temperature_plot(wave,temperatures):\n",
    "    for i in range(10):\n",
    "        bb=compute_planck(wave,temperatures[i])\n",
    "        plt.loglog(wave,bb,color=colors[9-i],linewidth=2.5,\n",
    "                   label=str(int(temperatures[i])))"
   ]
  },
  {
   "cell_type": "code",
   "execution_count": 159,
   "metadata": {},
   "outputs": [
    {
     "data": {
      "image/png": "[encoded data removed]",
      "text/plain": [
       "<Figure size 800x480 with 1 Axes>"
      ]
     },
     "metadata": {
      "needs_background": "light"
     },
     "output_type": "display_data"
    }
   ],
   "source": [
    "fig, ax = plt.subplots(figsize=(10,6), dpi=80)\n",
    "make_temperature_plot(wave,temperatures)\n",
    "ax.set_xlabel('Wavelength (Angstroms)',fontsize=16)\n",
    "ax.set_ylabel('Flux Density ($10^{-17}$ erg s$^{-1}$ cm$^{-2}$ A$^{-1}$)',fontsize=16)\n",
    "\n",
    "plt.xlim(wave.min(), wave.max())\n",
    "plt.ylim(0.1, 100000000.0)\n",
    "\n",
    "plt.legend(loc='upper left', frameon=True,fontsize=12, \\\n",
    "           title='Temperatures (K)',title_fontsize=14)\n",
    "\n",
    "# make the axes thicker\n",
    "\n",
    "ax.spines['left'].set_linewidth(2)\n",
    "ax.spines['right'].set_linewidth(2)\n",
    "ax.spines['top'].set_linewidth(2)\n",
    "ax.spines['bottom'].set_linewidth(2)\n",
    "\n",
    "plt.xticks(fontsize=15)\n",
    "plt.yticks(fontsize=15)\n",
    "\n",
    "ax.tick_params(top=True,right=True,direction='in',length=8, width=2)\n"
   ]
  },
  {
   "cell_type": "code",
   "execution_count": null,
   "metadata": {},
   "outputs": [],
   "source": []
  },
  {
   "cell_type": "code",
   "execution_count": null,
   "metadata": {},
   "outputs": [],
   "source": []
  }
 ],
 "metadata": {
  "kernelspec": {
   "display_name": "Python 3",
   "language": "python",
   "name": "python3"
  },
  "language_info": {
   "codemirror_mode": {
    "name": "ipython",
    "version": 3
   },
   "file_extension": ".py",
   "mimetype": "text/x-python",
   "name": "python",
   "nbconvert_exporter": "python",
   "pygments_lexer": "ipython3",
   "version": "3.7.4"
  }
 },
 "nbformat": 4,
 "nbformat_minor": 2
}
