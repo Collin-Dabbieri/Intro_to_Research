{
 "cells": [
  {
   "cell_type": "markdown",
   "metadata": {},
   "source": [
    "# Assignment 1\n",
    "\n",
    "**This is the first daily assignment for the class, due before class on Friday Jan 17.** "
   ]
  },
  {
   "cell_type": "markdown",
   "metadata": {},
   "source": [
    "# Problem 1 \n",
    "\n",
    "## a)\n",
    "\n",
    "I have a very long word and I don't want to bother counting its letters. Using the format method, print the phrase \"This word has X letters\" where X is the number of letters (don't count them manually)"
   ]
  },
  {
   "cell_type": "code",
   "execution_count": null,
   "metadata": {},
   "outputs": [],
   "source": [
    "long_word='antidisestablishmentarianism'\n"
   ]
  },
  {
   "cell_type": "markdown",
   "metadata": {},
   "source": [
    "## b)\n",
    "\n",
    "Numpy supports N-dimensional arrays. The slicing is similar to 1D arrays or lists. If I have a 2D array called cars I could access the entry in the 4th row 7th column with cars[3,6] \n",
    "\n",
    "I've given you a 3 dimensional array, print the values that make up the first four entries in the first dimension, the 6th entry in the second, and the last entry in the third."
   ]
  },
  {
   "cell_type": "code",
   "execution_count": 16,
   "metadata": {},
   "outputs": [],
   "source": [
    "import numpy as np\n",
    "data=np.random.randn(6,8,4)\n",
    "\n"
   ]
  },
  {
   "cell_type": "markdown",
   "metadata": {},
   "source": [
    "## c)\n",
    "\n",
    "Calculate the following\n",
    "\n",
    "$$\\sqrt{7+4\\pi^2}$$\n",
    "\n",
    "\n",
    "\n",
    "print the phrase \"the answer is X\" using the format method. Approximate the answer to three decimal places\n"
   ]
  },
  {
   "cell_type": "code",
   "execution_count": 18,
   "metadata": {},
   "outputs": [],
   "source": [
    "from math import pi\n",
    "from math import sqrt\n",
    "\n"
   ]
  },
  {
   "cell_type": "markdown",
   "metadata": {},
   "source": [
    "## d)\n",
    "\n",
    "Use a for loop to count from 0 to 19 (19 included). For each number\n",
    "- if the number is even, print \"Fizz\" hint: i%2==0 will return True if i is divisible by 2\n",
    "- if the number is odd, print \"Buzz\" hint: == checks if two entries are equal, != checks if two entries are unequal. Or, you could use an else statement\n",
    "- if the number is 14, print \"FizzBuzz\""
   ]
  },
  {
   "cell_type": "code",
   "execution_count": null,
   "metadata": {},
   "outputs": [],
   "source": []
  },
  {
   "cell_type": "markdown",
   "metadata": {},
   "source": [
    "# Problem 2\n",
    "\n",
    "I'm trying to figure out whether or not I should go to the zoo, I know what animals the zoo has and I know my favorite animals"
   ]
  },
  {
   "cell_type": "code",
   "execution_count": 100,
   "metadata": {},
   "outputs": [],
   "source": [
    "animals_in_zoo=['bear','wolf','eel','llama','gorilla','chimpanzee','snake','elk','lemur','elephant','giraffe',\n",
    "               'moose','deer','shark','polar bear','zebra','penguin','koala','hippo','sloth','lion','panda',\n",
    "               'kangaroo','orangutan','meerkat','camel','crocodile','platypus','emu','tortoise','flamingo']\n",
    "\n",
    "my_favorite_animals=['dog','cat','snake','mouse','polar bear','dolphin','flamingo','elk','lemur']"
   ]
  },
  {
   "cell_type": "markdown",
   "metadata": {},
   "source": [
    "### Using the for, if and in logical commands, figure out how many reasons I have to go to the zoo (how many entries are in both lists)\n",
    "\n",
    "Here's some pseudocode that will help you accomplish this\n",
    "\n",
    "- create a variable called my_reasons and set its value to 0\n",
    "- for each animal in animals_in_zoo, do the following\n",
    "- check if that animal is in the list my_favorite_animals using if and in\n",
    "- if that animal is in the list my_favorite_animals, increase the variable my_reasons by 1 using my_reasons+=1\n",
    "\n"
   ]
  },
  {
   "cell_type": "code",
   "execution_count": null,
   "metadata": {},
   "outputs": [],
   "source": []
  },
  {
   "cell_type": "markdown",
   "metadata": {},
   "source": [
    "### print the statement \"I have X reasons to go to the zoo\" where X is the number of entries in both lists\n",
    "(make sure to use the format method)"
   ]
  },
  {
   "cell_type": "code",
   "execution_count": null,
   "metadata": {},
   "outputs": [],
   "source": []
  },
  {
   "cell_type": "markdown",
   "metadata": {},
   "source": [
    "# Questions for us\n",
    "\n",
    "1. How long did it take you to do this assignment?"
   ]
  },
  {
   "cell_type": "markdown",
   "metadata": {},
   "source": []
  },
  {
   "cell_type": "markdown",
   "metadata": {},
   "source": [
    "2. How difficult was this assignment (very easy, easy, moderate, difficult, very difficult)?\n"
   ]
  },
  {
   "cell_type": "markdown",
   "metadata": {},
   "source": []
  }
 ],
 "metadata": {
  "kernelspec": {
   "display_name": "Python 3",
   "language": "python",
   "name": "python3"
  },
  "language_info": {
   "codemirror_mode": {
    "name": "ipython",
    "version": 3
   },
   "file_extension": ".py",
   "mimetype": "text/x-python",
   "name": "python",
   "nbconvert_exporter": "python",
   "pygments_lexer": "ipython3",
   "version": "3.7.3"
  }
 },
 "nbformat": 4,
 "nbformat_minor": 2
}
