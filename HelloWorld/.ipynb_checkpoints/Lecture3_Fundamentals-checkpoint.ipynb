{
 "cells": [
  {
   "cell_type": "markdown",
   "metadata": {},
   "source": [
    "## Lecture 3\n",
    "January 18, 2020\n",
    "\n",
    "### Announcements\n",
    "\n",
    "Proposed Office Hours Scheme:\n",
    " - Collin D: Tuesdays 12:30-2:20 NH 150\n",
    " - Prof. Leighly: Thursdays 1:30-3:30 NH 243/219\n",
    " - Daniel V.: Fridays 12:30-2:20 NH 219\n",
    " \n",
    "### What we did last time\n",
    " - Gotten on to SciServer\n",
    " - Looked at strings (use single or double quotes around strings)\n",
    " - Looked at the print statement for strings \n",
    " - used a string variable and a formatted print statement\n",
    " - Created a list\n",
    " - Used an if statement\n",
    " \n",
    "### What we will do today\n",
    " - Rewind a tiny bit to do things a little bit more systematically.\n",
    " - Look at for statements and computations in python.\n",
    " - Look at plotting in python\n",
    " - Start looking at functions"
   ]
  },
  {
   "cell_type": "markdown",
   "metadata": {},
   "source": [
    "## Variables\n",
    "\n",
    "A variable holds a value.  Our example from Wednesday was:"
   ]
  },
  {
   "cell_type": "code",
   "execution_count": 1,
   "metadata": {},
   "outputs": [],
   "source": [
    "flavor='chocolate'"
   ]
  },
  {
   "cell_type": "markdown",
   "metadata": {},
   "source": [
    "### Variable naming rules:\n",
    "\n",
    "- Variables can only contain letters, numbers, and underscores. Variable names can start with a letter or an underscore, but can not start with a number.\n",
    "- Spaces are not allowed in variable names, so we use underscores instead of spaces. For example, use rocky_road instead of \"rocky road\".  Alternatively, use RockyRoad.\n",
    "- You cannot use Python keywords (special python words) as variable names.\n",
    "\n",
    "### Variable hints:\n",
    "\n",
    "- It is helpful to make your variable names descriptive, without being too long. For example \"flavor\" is better than just \"x\". \n",
    "- Be careful about using the lowercase letter l and the uppercase letter O in places where they could be confused with the numbers 1 and 0."
   ]
  },
  {
   "cell_type": "markdown",
   "metadata": {},
   "source": [
    "## Strings\n",
    "\n",
    "Strings are sets of characters, but there can be numbers or special characters in strings.  They are enclosed in single or double quotes."
   ]
  },
  {
   "cell_type": "code",
   "execution_count": 2,
   "metadata": {},
   "outputs": [
    {
     "name": "stdout",
     "output_type": "stream",
     "text": [
      "This is a string.\n",
      "That *!#$@ string!\n"
     ]
    }
   ],
   "source": [
    "print('This is a string.')\n",
    "print('That *!#$@ string!')"
   ]
  },
  {
   "cell_type": "markdown",
   "metadata": {},
   "source": [
    "A handy property of strings is that they are easy to concatenate (join together)."
   ]
  },
  {
   "cell_type": "code",
   "execution_count": 3,
   "metadata": {},
   "outputs": [
    {
     "name": "stdout",
     "output_type": "stream",
     "text": [
      "The flavor I want is chocolate.\n"
     ]
    }
   ],
   "source": [
    "string1='The flavor I want is '\n",
    "string2='chocolate.'\n",
    "print (string1+string2)"
   ]
  },
  {
   "cell_type": "markdown",
   "metadata": {},
   "source": [
    "### Try this.\n",
    "\n",
    "Imagine that I told you that the next homework would be assigned on January 22.  You write an email to your friend to tell him or her this fact, and you want to use double quotation marks to enclose my quote (i.e., Dr. Leighly said....).  Print a python string that will do this."
   ]
  },
  {
   "cell_type": "code",
   "execution_count": 4,
   "metadata": {},
   "outputs": [
    {
     "name": "stdout",
     "output_type": "stream",
     "text": [
      "Dr. Leighly said \"The next homework will be due January 22.\"\n"
     ]
    }
   ],
   "source": [
    "print ('Dr. Leighly said \"The next homework will be due January 22.\"')"
   ]
  },
  {
   "cell_type": "markdown",
   "metadata": {},
   "source": [
    "## Numerical data\n",
    "\n",
    "There are two types of numerical data that we will use:\n",
    " - Integers - these are counting numbers, and have no decimal point.  They are also called longs.\n",
    " - Floating point - these are fractional numbers.  This category includes numbers in scientific notation.\n",
    " \n",
    " It used to be that you had to take special care when operating with these types of numbers, but it looks like python assumes floating point for operations."
   ]
  },
  {
   "cell_type": "code",
   "execution_count": 5,
   "metadata": {},
   "outputs": [
    {
     "name": "stdout",
     "output_type": "stream",
     "text": [
      "5\n",
      "5.0\n"
     ]
    }
   ],
   "source": [
    "# An example of an integer.\n",
    "\n",
    "s=5\n",
    "\n",
    "print(s)\n",
    "\n",
    "# An example of a floating point number.\n",
    "\n",
    "t=5.0\n",
    "\n",
    "print(t)"
   ]
  },
  {
   "cell_type": "markdown",
   "metadata": {},
   "source": [
    "### Operators\n",
    "\n",
    "- Addition is \"+\".\n",
    "- Subtraction is \"-\".\n",
    "- Multiplication is \"*\".\n",
    "- Division is \"/\".\n",
    "- Exponentiation is \"**\"."
   ]
  },
  {
   "cell_type": "code",
   "execution_count": 6,
   "metadata": {},
   "outputs": [
    {
     "data": {
      "text/plain": [
       "8"
      ]
     },
     "execution_count": 6,
     "metadata": {},
     "output_type": "execute_result"
    }
   ],
   "source": [
    "5+3"
   ]
  },
  {
   "cell_type": "code",
   "execution_count": 7,
   "metadata": {},
   "outputs": [
    {
     "data": {
      "text/plain": [
       "2"
      ]
     },
     "execution_count": 7,
     "metadata": {},
     "output_type": "execute_result"
    }
   ],
   "source": [
    "5-3"
   ]
  },
  {
   "cell_type": "code",
   "execution_count": 8,
   "metadata": {},
   "outputs": [
    {
     "data": {
      "text/plain": [
       "15"
      ]
     },
     "execution_count": 8,
     "metadata": {},
     "output_type": "execute_result"
    }
   ],
   "source": [
    "5*3"
   ]
  },
  {
   "cell_type": "code",
   "execution_count": 9,
   "metadata": {},
   "outputs": [
    {
     "data": {
      "text/plain": [
       "1.6666666666666667"
      ]
     },
     "execution_count": 9,
     "metadata": {},
     "output_type": "execute_result"
    }
   ],
   "source": [
    "5/3"
   ]
  },
  {
   "cell_type": "code",
   "execution_count": 10,
   "metadata": {},
   "outputs": [
    {
     "data": {
      "text/plain": [
       "125"
      ]
     },
     "execution_count": 10,
     "metadata": {},
     "output_type": "execute_result"
    }
   ],
   "source": [
    "5**3"
   ]
  },
  {
   "cell_type": "markdown",
   "metadata": {},
   "source": [
    "### Use parentheses to control the order of operations.\n",
    "\n",
    "If you do something like 2+3*4, what order are the operations done in?  Is it 2+3 then *4, or is it 3*4 then +2?\n",
    "\n",
    "If you are not sure, use parentheses to control the order:  (2+3)*4 or 2+(3*4)"
   ]
  },
  {
   "cell_type": "code",
   "execution_count": 11,
   "metadata": {},
   "outputs": [
    {
     "name": "stdout",
     "output_type": "stream",
     "text": [
      "14\n",
      "20\n",
      "14\n"
     ]
    }
   ],
   "source": [
    "print (2+3*4)\n",
    "print ( (2+3)*4 ) \n",
    "print ( 2+(3*4) )"
   ]
  },
  {
   "cell_type": "markdown",
   "metadata": {},
   "source": [
    "### Try this.\n",
    "\n",
    "The experiment above shows that multiplication is done _before_ addition.  \n",
    "\n",
    "Put together a numberical experiment that determines which comes first:\n",
    "- subtraction or division\n",
    "- multiplication or exponentiation"
   ]
  },
  {
   "cell_type": "code",
   "execution_count": 12,
   "metadata": {},
   "outputs": [
    {
     "name": "stdout",
     "output_type": "stream",
     "text": [
      "3.5\n",
      "1.0\n",
      "3.5\n"
     ]
    }
   ],
   "source": [
    "print ( 5-3/2 )\n",
    "print ( (5-3)/2 )\n",
    "print ( 5-(3/2) )"
   ]
  },
  {
   "cell_type": "code",
   "execution_count": 13,
   "metadata": {},
   "outputs": [
    {
     "name": "stdout",
     "output_type": "stream",
     "text": [
      "45\n",
      "225\n",
      "45\n"
     ]
    }
   ],
   "source": [
    "print ( 5*3**2 )\n",
    "print ( (5*3)**2 )\n",
    "print ( 5*(3**2) )"
   ]
  },
  {
   "cell_type": "markdown",
   "metadata": {},
   "source": [
    "### Variables and numbers.\n",
    "\n",
    "All of the same rules hold if you use variables rather than numbers. For example:"
   ]
  },
  {
   "cell_type": "code",
   "execution_count": 14,
   "metadata": {},
   "outputs": [
    {
     "name": "stdout",
     "output_type": "stream",
     "text": [
      "14\n"
     ]
    }
   ],
   "source": [
    "a=2\n",
    "b=3\n",
    "c=4\n",
    "\n",
    "print (a+b*c)"
   ]
  },
  {
   "cell_type": "markdown",
   "metadata": {},
   "source": [
    "## If statements\n",
    "\n",
    "An if statement tests for a condition, and then responds to that condition. If the condition is true, then whatever action is listed next gets carried out. You can test for multiple conditions at the same time, and respond appropriately to each condition.\n",
    "\n",
    "Naturally, you use if statements in your own life.  E.g., \"If I open my purse and find that I have more than $20, I will go to a movie.  Otherwise (else), I will go home.\""
   ]
  },
  {
   "cell_type": "code",
   "execution_count": 15,
   "metadata": {},
   "outputs": [
    {
     "name": "stdout",
     "output_type": "stream",
     "text": [
      "We have the following flavors in-stock:  ['chocolate', 'vanilla', 'bubblegum', 'rocky_road']\n",
      "\n",
      "The total number of flavors is:  4\n"
     ]
    }
   ],
   "source": [
    "flavors_instock = ['chocolate', 'vanilla', 'bubblegum', 'rocky_road'] \n",
    "\n",
    "print (\"We have the following flavors in-stock: \", flavors_instock)\n",
    "print () # this prints a blank line\n",
    "print (\"The total number of flavors is: \", len(flavors_instock)) # len() returns the length of an array"
   ]
  },
  {
   "cell_type": "code",
   "execution_count": 16,
   "metadata": {},
   "outputs": [
    {
     "name": "stdout",
     "output_type": "stream",
     "text": [
      "Is vanilla in stock?\n"
     ]
    },
    {
     "data": {
      "text/plain": [
       "True"
      ]
     },
     "execution_count": 16,
     "metadata": {},
     "output_type": "execute_result"
    }
   ],
   "source": [
    "flavor_iwant = 'vanilla'\n",
    "\n",
    "# this statement will check all of the flavors in stock to see if the one you want is listed\n",
    "print('Is {:s} in stock?'.format(flavor_iwant))\n",
    "flavor_iwant in flavors_instock"
   ]
  },
  {
   "cell_type": "code",
   "execution_count": 17,
   "metadata": {},
   "outputs": [
    {
     "name": "stdout",
     "output_type": "stream",
     "text": [
      "Is butter_brickle in stock?\n"
     ]
    },
    {
     "data": {
      "text/plain": [
       "False"
      ]
     },
     "execution_count": 17,
     "metadata": {},
     "output_type": "execute_result"
    }
   ],
   "source": [
    "flavor_ireallywant = 'butter_brickle'\n",
    "print('Is {:s} in stock?'.format(flavor_ireallywant))\n",
    "flavor_ireallywant in flavors_instock"
   ]
  },
  {
   "cell_type": "code",
   "execution_count": 18,
   "metadata": {},
   "outputs": [
    {
     "name": "stdout",
     "output_type": "stream",
     "text": [
      "I guess I will have vanilla.\n"
     ]
    }
   ],
   "source": [
    "\n",
    "if flavor_ireallywant in flavors_instock:    \n",
    "    print(\"I would like to order {:s}.\".format(flavor_reallywant))\n",
    "    \n",
    "else:   \n",
    "    print(\"I guess I will have {:s}.\".format(flavor_iwant))"
   ]
  },
  {
   "cell_type": "markdown",
   "metadata": {},
   "source": [
    "### A note about logical cases in python.\n",
    "\n",
    "Every if statement evaluates to True or False. True and False are Python keywords, which have special meanings attached to them.  (This means that you cannot use \"True\" or \"False\" as variable names.\n",
    "\n",
    "You can test whether something is something, or within a list, or you can test numerical relationships such as:\n",
    "\n",
    "- equality (==)\n",
    "- inequality (!=)\n",
    "- greater than (>)\n",
    "- greater than or equal to (>=)\n",
    "- less than (<)\n",
    "- less than or equal to (<=)"
   ]
  },
  {
   "cell_type": "markdown",
   "metadata": {},
   "source": [
    "### Try this.\n",
    "\n",
    "Using the following variables, write an if statement that tests whether you have enough money to go to a movie, and if you don't, you will go home."
   ]
  },
  {
   "cell_type": "code",
   "execution_count": 19,
   "metadata": {},
   "outputs": [],
   "source": [
    "wallet=25.0\n",
    "need=20.0\n"
   ]
  },
  {
   "cell_type": "code",
   "execution_count": 20,
   "metadata": {},
   "outputs": [
    {
     "name": "stdout",
     "output_type": "stream",
     "text": [
      "Yay, I can go to a movie!\n"
     ]
    }
   ],
   "source": [
    "if wallet > need:\n",
    "    print (\"Yay, I can go to a movie!\")\n",
    "else: \n",
    "    print (\"Darn it, I'll just go home.\")"
   ]
  },
  {
   "cell_type": "markdown",
   "metadata": {},
   "source": [
    "### Multiple conditionals can be used, as in the following example:\n",
    "\n",
    "Note how this is written so that the user can determine whether there are 5 or more dogs, whether there are three or more dogs, or whether there are fewer than 3 dogs."
   ]
  },
  {
   "cell_type": "code",
   "execution_count": 21,
   "metadata": {},
   "outputs": [
    {
     "name": "stdout",
     "output_type": "stream",
     "text": [
      "Holy mackerel, we might as well start a dog hostel!\n"
     ]
    }
   ],
   "source": [
    "dogs = ['willie', 'hootz', 'peso', 'monty', 'juno', 'turkey']\n",
    "\n",
    "if len(dogs) >= 5:\n",
    "    print(\"Holy mackerel, we might as well start a dog hostel!\")\n",
    "elif len(dogs) >= 3:\n",
    "    print(\"Wow, we have a lot of dogs here!\")\n",
    "else:\n",
    "    print(\"Okay, this is a reasonable number of dogs.\")\n"
   ]
  },
  {
   "cell_type": "markdown",
   "metadata": {},
   "source": [
    "### try this.\n",
    "\n",
    "Add a condition to the string above to test whether there are exactly two dogs.  Create a string that will test this and will print out that there are exactly two dogs."
   ]
  },
  {
   "cell_type": "code",
   "execution_count": 22,
   "metadata": {},
   "outputs": [
    {
     "name": "stdout",
     "output_type": "stream",
     "text": [
      "We have exactly two dogs.\n"
     ]
    }
   ],
   "source": [
    "dogs2 = ['sherlock', 'chagrin']\n",
    "\n",
    "if len(dogs2) >= 5:\n",
    "    print(\"Holy mackerel, we might as well start a dog hostel!\")\n",
    "elif len(dogs2) >= 3:\n",
    "    print(\"Wow, we have a lot of dogs here!\")\n",
    "elif len(dogs2) == 2:\n",
    "    print(\"We have exactly two dogs.\")\n",
    "else:\n",
    "    print(\"Okay, this is a reasonable number of dogs.\")"
   ]
  },
  {
   "cell_type": "markdown",
   "metadata": {},
   "source": [
    "## For loops:\n",
    "\n",
    "For loops do the same thing over and over again on a list of objects. "
   ]
  },
  {
   "cell_type": "code",
   "execution_count": 23,
   "metadata": {},
   "outputs": [
    {
     "name": "stdout",
     "output_type": "stream",
     "text": [
      "Let's see what they have...\n",
      "\n",
      "chocolate\n",
      "vanilla\n",
      "OK - well, at least they have my back-up choice.\n",
      "bubblegum\n",
      "rocky_road\n"
     ]
    }
   ],
   "source": [
    "# let's scroll through the whole list and see if one matches up with our preferred choice...\n",
    "\n",
    "print (\"Let's see what they have...\\n\")\n",
    "        \n",
    "for flavor in flavors_instock:              # this will run through every item in the list, one by one\n",
    "    print (flavor)\n",
    "    \n",
    "    if flavor == flavor_ireallywant:\n",
    "        print (\"YAY - they have my absolute favorite flavor!\")\n",
    "        \n",
    "    elif flavor == flavor_iwant:            # \"elif\" means \"otherwise, if...\"\n",
    "        print (\"OK - well, at least they have my back-up choice.\")    "
   ]
  },
  {
   "cell_type": "markdown",
   "metadata": {},
   "source": [
    "### Try this.\n",
    "\n",
    "Instead of checking to see whether they have a flavor that you want, modify the loop above to see if there is an \"a\" in the name of the flavor, and if so, print that flavor.  If not, don't write anything.  \n",
    "\n",
    "Hint: The operator \"in\" can check to see if there is a string within a substring, i.e, as follows:"
   ]
  },
  {
   "cell_type": "code",
   "execution_count": 24,
   "metadata": {},
   "outputs": [
    {
     "data": {
      "text/plain": [
       "True"
      ]
     },
     "execution_count": 24,
     "metadata": {},
     "output_type": "execute_result"
    }
   ],
   "source": [
    "\"i\" in 'vanilla'"
   ]
  },
  {
   "cell_type": "code",
   "execution_count": 25,
   "metadata": {},
   "outputs": [
    {
     "name": "stdout",
     "output_type": "stream",
     "text": [
      "chocolate\n",
      "vanilla\n",
      "rocky_road\n"
     ]
    }
   ],
   "source": [
    "for flavor in flavors_instock:              # this will run through every item in the list, one by one\n",
    "\n",
    "    if \"a\" in flavor:\n",
    "        print (flavor)\n",
    "  "
   ]
  },
  {
   "cell_type": "markdown",
   "metadata": {},
   "source": [
    "## Built in mathematical operations and numbers\n",
    "\n",
    "As noted in class, on of the useful things about python is that it comes with a large array of built-in capabilities.  One of these is operations.\n",
    "\n",
    "Most mathematical operations don't come automatically loaded into Python.  If you need special operations (e.g., log10, pi, square root), you'll need to import them from python's math library."
   ]
  },
  {
   "cell_type": "code",
   "execution_count": 26,
   "metadata": {},
   "outputs": [
    {
     "name": "stdout",
     "output_type": "stream",
     "text": [
      "3.141592653589793\n"
     ]
    }
   ],
   "source": [
    "# import pi from the python math library\n",
    "from math import pi\n",
    "\n",
    "print (pi)"
   ]
  },
  {
   "cell_type": "code",
   "execution_count": 27,
   "metadata": {},
   "outputs": [
    {
     "name": "stdout",
     "output_type": "stream",
     "text": [
      "10\n"
     ]
    }
   ],
   "source": [
    "print (abs(-10))"
   ]
  },
  {
   "cell_type": "code",
   "execution_count": 28,
   "metadata": {},
   "outputs": [
    {
     "name": "stdout",
     "output_type": "stream",
     "text": [
      "3.1622776601683795\n"
     ]
    }
   ],
   "source": [
    "from math import sqrt\n",
    "print (sqrt(10))"
   ]
  },
  {
   "cell_type": "markdown",
   "metadata": {},
   "source": [
    "### Try this.\n",
    "\n",
    "The area of a circle is $\\pi r^2$, as you know.  What is the area of a circle with a radius of 2?"
   ]
  },
  {
   "cell_type": "code",
   "execution_count": 29,
   "metadata": {},
   "outputs": [
    {
     "name": "stdout",
     "output_type": "stream",
     "text": [
      "12.566370614359172\n"
     ]
    }
   ],
   "source": [
    "radius=2\n",
    "print (pi*2*2)"
   ]
  },
  {
   "cell_type": "markdown",
   "metadata": {},
   "source": [
    "## Numpy\n",
    "There are a lot of advantages to using numpy and similar useful features in python.   A principle one is that you can operate on vector variables.  For example, say you have two vectors (a,b) that you want to add together or multiply together.  Numpy allows you to do that directly: a+b, or axb, rather than having to deal with each elements.  "
   ]
  },
  {
   "cell_type": "code",
   "execution_count": 30,
   "metadata": {},
   "outputs": [
    {
     "name": "stdout",
     "output_type": "stream",
     "text": [
      "x =  [0 1 2 3 4]\n",
      "zeros =  [0. 0. 0. 0. 0.]\n",
      "noise =  [ 2.05 -0.74 -0.02  2.18  0.62]\n"
     ]
    }
   ],
   "source": [
    "# import the numpy module, and give it a nickname \"np\"\n",
    "import numpy as np\n",
    "\n",
    "# The basic structure of the Numpy module is the Numpy Array.\n",
    "# Numpy arrays were invented to mimic the functionality of\n",
    "# MATLAB arrays, and also IDL arrays.\n",
    "\n",
    "x = np.arange(5) # Creates an array of 5 intergers, beginning at 0\n",
    "zeros = np.zeros(5) # Array of five zeros \n",
    "noise = np.random.randn(5) # Array of five Gaussian random numbers\n",
    "\n",
    "print ('x = ', x)\n",
    "print ('zeros = ', zeros)\n",
    "print ('noise = ', np.round(noise,2))"
   ]
  },
  {
   "cell_type": "code",
   "execution_count": 31,
   "metadata": {},
   "outputs": [
    {
     "name": "stdout",
     "output_type": "stream",
     "text": [
      "[0 2 4 6 8]\n",
      "[2.05408977 0.26426809 1.97995481 5.17734844 4.62304364]\n"
     ]
    }
   ],
   "source": [
    "# By default, arrays add element-by-element, and they have\n",
    "# powerful indexing and masking functionality\n",
    "print (x + x)\n",
    "print (x + noise)"
   ]
  },
  {
   "cell_type": "markdown",
   "metadata": {},
   "source": [
    "## Variables and Numpy\n",
    "\n",
    "Numpy can be a little picky when it comes to variables. Basically, they have to be accessed using square brackets, and the indexing starts at zero. But when you get use to that, numpy is very handy for slicing arrays."
   ]
  },
  {
   "cell_type": "code",
   "execution_count": 32,
   "metadata": {},
   "outputs": [
    {
     "data": {
      "text/plain": [
       "array([ 2.05408977, -0.73573191, -0.02004519,  2.17734844,  0.62304364])"
      ]
     },
     "execution_count": 32,
     "metadata": {},
     "output_type": "execute_result"
    }
   ],
   "source": [
    "noise"
   ]
  },
  {
   "cell_type": "code",
   "execution_count": 33,
   "metadata": {},
   "outputs": [
    {
     "data": {
      "text/plain": [
       "-0.020045186672579984"
      ]
     },
     "execution_count": 33,
     "metadata": {},
     "output_type": "execute_result"
    }
   ],
   "source": [
    "noise[2]"
   ]
  },
  {
   "cell_type": "code",
   "execution_count": 34,
   "metadata": {},
   "outputs": [
    {
     "data": {
      "text/plain": [
       "array([ 2.05408977, -0.73573191])"
      ]
     },
     "execution_count": 34,
     "metadata": {},
     "output_type": "execute_result"
    }
   ],
   "source": [
    "noise[:2]"
   ]
  },
  {
   "cell_type": "markdown",
   "metadata": {},
   "source": [
    "### Try this.\n",
    "\n",
    "Write a command to give you exactly the first, the second, and the third elements in the list."
   ]
  },
  {
   "cell_type": "code",
   "execution_count": 35,
   "metadata": {},
   "outputs": [
    {
     "data": {
      "text/plain": [
       "array([-0.73573191, -0.02004519,  2.17734844])"
      ]
     },
     "execution_count": 35,
     "metadata": {},
     "output_type": "execute_result"
    }
   ],
   "source": [
    "noise[1:4]"
   ]
  },
  {
   "cell_type": "markdown",
   "metadata": {},
   "source": [
    "## Indentation\n",
    "\n",
    "\n",
    "Note that Python does not use brackets, braces, or parentheses, or even \"end\" statements in it control flows. Everything is controlled using indentation. You are free to pick your own level of indendation, but it is conventional to use 4 spaces.\n",
    "\n",
    "For example, suppose we want to iterate through a 2D array and check the value of each element. First create the array, and make sure it is the size you want:"
   ]
  },
  {
   "cell_type": "code",
   "execution_count": 36,
   "metadata": {},
   "outputs": [
    {
     "name": "stdout",
     "output_type": "stream",
     "text": [
      "(100, 100)\n"
     ]
    }
   ],
   "source": [
    "noise = np.random.randn(100,100) # 2D image of Gaussian noise\n",
    "\n",
    "print (noise.shape)"
   ]
  },
  {
   "cell_type": "code",
   "execution_count": 37,
   "metadata": {},
   "outputs": [
    {
     "name": "stdout",
     "output_type": "stream",
     "text": [
      "100 100\n",
      "1\n",
      "4 Sigma Detection!  4.391472618481447\n"
     ]
    }
   ],
   "source": [
    "detections = 0\n",
    "print (noise.shape[0], noise.shape[1])\n",
    "print (np.sum(noise > 4))\n",
    "for i in range(noise.shape[0]):\n",
    "    for j in range(noise.shape[1]):\n",
    "        if noise[i,j] > 4:\n",
    "            detections += 1\n",
    "            print ('4 Sigma Detection! ', noise[i,j])\n",
    "if detections==0:\n",
    "    print ('No detections, need more observing time.')"
   ]
  },
  {
   "cell_type": "markdown",
   "metadata": {},
   "source": [
    "### Try this\n",
    "\n",
    "Run the above two cells again.  Do you always get a detected, or always get no detections?  What do you think is happening?"
   ]
  },
  {
   "cell_type": "code",
   "execution_count": null,
   "metadata": {},
   "outputs": [],
   "source": [
    "np.random.randn?"
   ]
  }
 ],
 "metadata": {
  "kernelspec": {
   "display_name": "Python 3",
   "language": "python",
   "name": "python3"
  },
  "language_info": {
   "codemirror_mode": {
    "name": "ipython",
    "version": 3
   },
   "file_extension": ".py",
   "mimetype": "text/x-python",
   "name": "python",
   "nbconvert_exporter": "python",
   "pygments_lexer": "ipython3",
   "version": "3.7.3"
  }
 },
 "nbformat": 4,
 "nbformat_minor": 2
}
