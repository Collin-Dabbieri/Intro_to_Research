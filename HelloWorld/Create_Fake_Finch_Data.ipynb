{
 "cells": [
  {
   "cell_type": "markdown",
   "metadata": {},
   "source": [
    "# Here I'm going to create some fake data students can load in for Assignment 1\n",
    "\n",
    "## We'll have data with the beak length for two species of bird, ordered randomly, where column 1 gives the species and column 2 gives the beak length"
   ]
  },
  {
   "cell_type": "code",
   "execution_count": 4,
   "metadata": {},
   "outputs": [
    {
     "name": "stdout",
     "output_type": "stream",
     "text": [
      "[['Large Ground Finch' '2.451127388305961']\n",
      " ['Green Warbler-Finch' '1.6522066209817239']\n",
      " ['Green Warbler-Finch' '1.8173624943944193']\n",
      " ['Large Ground Finch' '2.134868955835671']\n",
      " ['Large Ground Finch' '2.04097671197805']]\n"
     ]
    }
   ],
   "source": [
    "import numpy as np\n",
    "bird_names=[\"Large Ground Finch\",\"Green Warbler-Finch\"]\n",
    "\n",
    "\n",
    "avg_length1=2.5 #I've left these blank so you can't see the answer for the Assignment\n",
    "avg_length2=1.7\n",
    "std=0.3\n",
    "\n",
    "fake_data=[] # we will populate these arrays with name and length values using append\n",
    "\n",
    "\n",
    "\n",
    "for i in range(200): #I want to generate 200 rows of data\n",
    "    \n",
    "    # randomly determine if Large Ground Finch or Green Warbler-Finch\n",
    "    rand=np.random.random() #this generates a single random number on the interval [0.0, 1.0)\n",
    "    \n",
    "    if rand>0.5:\n",
    "        #Large Ground Finch\n",
    "        name_temp=bird_names[0] #notice arrays are indexed from 0, not 1\n",
    "        \n",
    "        length_temp=avg_length1+std*np.random.randn() \n",
    "        #np.random.randn() will return a value from a normal distribution with mean 0 and standard deviation 1\n",
    "        \n",
    "        fake_data.append(name_temp)\n",
    "        fake_data.append(length_temp)\n",
    "        \n",
    "    else:\n",
    "        #Green Warbler-Finch\n",
    "        name_temp=bird_names[1]\n",
    "        \n",
    "        length_temp=avg_length2+std*np.random.randn()\n",
    "        \n",
    "        fake_data.append(name_temp)\n",
    "        fake_data.append(length_temp)\n",
    "        \n",
    "        \n",
    "fake_data=np.asarray(fake_data).reshape((200,2))\n",
    "print(fake_data[:5,:])\n",
    "        \n",
    "#save the data to a .txt file\n",
    "np.savetxt(\"bird_data.txt\",fake_data,fmt=\"%s\", delimiter=\",\")"
   ]
  },
  {
   "cell_type": "code",
   "execution_count": null,
   "metadata": {},
   "outputs": [],
   "source": []
  }
 ],
 "metadata": {
  "kernelspec": {
   "display_name": "Python 3",
   "language": "python",
   "name": "python3"
  },
  "language_info": {
   "codemirror_mode": {
    "name": "ipython",
    "version": 3
   },
   "file_extension": ".py",
   "mimetype": "text/x-python",
   "name": "python",
   "nbconvert_exporter": "python",
   "pygments_lexer": "ipython3",
   "version": "3.7.3"
  }
 },
 "nbformat": 4,
 "nbformat_minor": 2
}
